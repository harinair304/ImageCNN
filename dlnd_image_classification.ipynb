{
 "cells": [
  {
   "cell_type": "markdown",
   "metadata": {
    "collapsed": true,
    "deletable": true,
    "editable": true
   },
   "source": [
    "# Image Classification\n",
    "In this project, you'll classify images from the [CIFAR-10 dataset](https://www.cs.toronto.edu/~kriz/cifar.html).  The dataset consists of airplanes, dogs, cats, and other objects. You'll preprocess the images, then train a convolutional neural network on all the samples. The images need to be normalized and the labels need to be one-hot encoded.  You'll get to apply what you learned and build a convolutional, max pooling, dropout, and fully connected layers.  At the end, you'll get to see your neural network's predictions on the sample images.\n",
    "## Get the Data\n",
    "Run the following cell to download the [CIFAR-10 dataset for python](https://www.cs.toronto.edu/~kriz/cifar-10-python.tar.gz)."
   ]
  },
  {
   "cell_type": "code",
   "execution_count": 2,
   "metadata": {
    "collapsed": false,
    "deletable": true,
    "editable": true
   },
   "outputs": [
    {
     "name": "stdout",
     "output_type": "stream",
     "text": [
      "All files found!\n"
     ]
    }
   ],
   "source": [
    "\"\"\"\n",
    "DON'T MODIFY ANYTHING IN THIS CELL THAT IS BELOW THIS LINE\n",
    "\"\"\"\n",
    "from urllib.request import urlretrieve\n",
    "from os.path import isfile, isdir\n",
    "from tqdm import tqdm\n",
    "import problem_unittests as tests\n",
    "import tarfile\n",
    "\n",
    "cifar10_dataset_folder_path = 'cifar-10-batches-py'\n",
    "\n",
    "# Use Floyd's cifar-10 dataset if present\n",
    "floyd_cifar10_location = '/input/cifar-10/python.tar.gz'\n",
    "if isfile(floyd_cifar10_location):\n",
    "    tar_gz_path = floyd_cifar10_location\n",
    "else:\n",
    "    tar_gz_path = 'cifar-10-python.tar.gz'\n",
    "\n",
    "class DLProgress(tqdm):\n",
    "    last_block = 0\n",
    "\n",
    "    def hook(self, block_num=1, block_size=1, total_size=None):\n",
    "        self.total = total_size\n",
    "        self.update((block_num - self.last_block) * block_size)\n",
    "        self.last_block = block_num\n",
    "\n",
    "if not isfile(tar_gz_path):\n",
    "    with DLProgress(unit='B', unit_scale=True, miniters=1, desc='CIFAR-10 Dataset') as pbar:\n",
    "        urlretrieve(\n",
    "            'https://www.cs.toronto.edu/~kriz/cifar-10-python.tar.gz',\n",
    "            tar_gz_path,\n",
    "            pbar.hook)\n",
    "\n",
    "if not isdir(cifar10_dataset_folder_path):\n",
    "    with tarfile.open(tar_gz_path) as tar:\n",
    "        tar.extractall()\n",
    "        tar.close()\n",
    "\n",
    "\n",
    "tests.test_folder_path(cifar10_dataset_folder_path)"
   ]
  },
  {
   "cell_type": "markdown",
   "metadata": {
    "deletable": true,
    "editable": true
   },
   "source": [
    "## Explore the Data\n",
    "The dataset is broken into batches to prevent your machine from running out of memory.  The CIFAR-10 dataset consists of 5 batches, named `data_batch_1`, `data_batch_2`, etc.. Each batch contains the labels and images that are one of the following:\n",
    "* airplane\n",
    "* automobile\n",
    "* bird\n",
    "* cat\n",
    "* deer\n",
    "* dog\n",
    "* frog\n",
    "* horse\n",
    "* ship\n",
    "* truck\n",
    "\n",
    "Understanding a dataset is part of making predictions on the data.  Play around with the code cell below by changing the `batch_id` and `sample_id`. The `batch_id` is the id for a batch (1-5). The `sample_id` is the id for a image and label pair in the batch.\n",
    "\n",
    "Ask yourself \"What are all possible labels?\", \"What is the range of values for the image data?\", \"Are the labels in order or random?\".  Answers to questions like these will help you preprocess the data and end up with better predictions."
   ]
  },
  {
   "cell_type": "code",
   "execution_count": 3,
   "metadata": {
    "collapsed": false,
    "deletable": true,
    "editable": true
   },
   "outputs": [
    {
     "name": "stdout",
     "output_type": "stream",
     "text": [
      "\n",
      "Stats of batch 2:\n",
      "Samples: 10000\n",
      "Label Counts: {0: 984, 1: 1007, 2: 1010, 3: 995, 4: 1010, 5: 988, 6: 1008, 7: 1026, 8: 987, 9: 985}\n",
      "First 20 Labels: [1, 6, 6, 8, 8, 3, 4, 6, 0, 6, 0, 3, 6, 6, 5, 4, 8, 3, 2, 6]\n",
      "\n",
      "Example of Image 8:\n",
      "Image - Min Value: 31 Max Value: 255\n",
      "Image - Shape: (32, 32, 3)\n",
      "Label - Label Id: 0 Name: airplane\n"
     ]
    },
    {
     "data": {
      "image/png": "[encoded data removed]",
      "text/plain": [
       "<matplotlib.figure.Figure at 0x7f56e44baa20>"
      ]
     },
     "metadata": {
      "image/png": {
       "height": 250,
       "width": 253
      }
     },
     "output_type": "display_data"
    }
   ],
   "source": [
    "%matplotlib inline\n",
    "%config InlineBackend.figure_format = 'retina'\n",
    "\n",
    "import helper\n",
    "import numpy as np\n",
    "\n",
    "# Explore the dataset\n",
    "batch_id = 2\n",
    "sample_id =8\n",
    "helper.display_stats(cifar10_dataset_folder_path, batch_id, sample_id)"
   ]
  },
  {
   "cell_type": "markdown",
   "metadata": {
    "deletable": true,
    "editable": true
   },
   "source": [
    "## Implement Preprocess Functions\n",
    "### Normalize\n",
    "In the cell below, implement the `normalize` function to take in image data, `x`, and return it as a normalized Numpy array. The values should be in the range of 0 to 1, inclusive.  The return object should be the same shape as `x`."
   ]
  },
  {
   "cell_type": "code",
   "execution_count": 4,
   "metadata": {
    "collapsed": false,
    "deletable": true,
    "editable": true
   },
   "outputs": [
    {
     "name": "stdout",
     "output_type": "stream",
     "text": [
      "Tests Passed\n"
     ]
    }
   ],
   "source": [
    "def normalize(x):\n",
    "    \"\"\"\n",
    "    Normalize a list of sample image data in the range of 0 to 1\n",
    "    : x: List of image data.  The image shape is (32, 32, 3)\n",
    "    : return: Numpy array of normalize data\n",
    "    \"\"\"\n",
    "    # TODO: Implement Function\n",
    "    x = (x - np.min(x)) / (np.max(x)-np.min(x))\n",
    "    return x\n",
    "\n",
    "\n",
    "\"\"\"\n",
    "DON'T MODIFY ANYTHING IN THIS CELL THAT IS BELOW THIS LINE\n",
    "\"\"\"\n",
    "tests.test_normalize(normalize)"
   ]
  },
  {
   "cell_type": "markdown",
   "metadata": {
    "deletable": true,
    "editable": true
   },
   "source": [
    "### One-hot encode\n",
    "Just like the previous code cell, you'll be implementing a function for preprocessing.  This time, you'll implement the `one_hot_encode` function. The input, `x`, are a list of labels.  Implement the function to return the list of labels as One-Hot encoded Numpy array.  The possible values for labels are 0 to 9. The one-hot encoding function should return the same encoding for each value between each call to `one_hot_encode`.  Make sure to save the map of encodings outside the function.\n",
    "\n",
    "Hint: Don't reinvent the wheel."
   ]
  },
  {
   "cell_type": "code",
   "execution_count": 5,
   "metadata": {
    "collapsed": false,
    "deletable": true,
    "editable": true
   },
   "outputs": [
    {
     "name": "stdout",
     "output_type": "stream",
     "text": [
      "Tests Passed\n"
     ]
    }
   ],
   "source": [
    "def one_hot_encode(x):\n",
    "    \"\"\"\n",
    "    One hot encode a list of sample labels. Return a one-hot encoded vector for each label.\n",
    "    : x: List of sample Labels\n",
    "    : return: Numpy array of one-hot encoded labels\n",
    "    \"\"\"\n",
    "    result = np.zeros((len(x), 10))\n",
    "    for idx, r in enumerate(result):\n",
    "        r[int(x[idx])] = 1\n",
    "    return result\n",
    "\n",
    "\n",
    "\"\"\"\n",
    "DON'T MODIFY ANYTHING IN THIS CELL THAT IS BELOW THIS LINE\n",
    "\"\"\"\n",
    "tests.test_one_hot_encode(one_hot_encode)"
   ]
  },
  {
   "cell_type": "markdown",
   "metadata": {
    "deletable": true,
    "editable": true
   },
   "source": [
    "### Randomize Data\n",
    "As you saw from exploring the data above, the order of the samples are randomized.  It doesn't hurt to randomize it again, but you don't need to for this dataset."
   ]
  },
  {
   "cell_type": "markdown",
   "metadata": {
    "deletable": true,
    "editable": true
   },
   "source": [
    "## Preprocess all the data and save it\n",
    "Running the code cell below will preprocess all the CIFAR-10 data and save it to file. The code below also uses 10% of the training data for validation."
   ]
  },
  {
   "cell_type": "code",
   "execution_count": 6,
   "metadata": {
    "collapsed": true,
    "deletable": true,
    "editable": true
   },
   "outputs": [],
   "source": [
    "\"\"\"\n",
    "DON'T MODIFY ANYTHING IN THIS CELL\n",
    "\"\"\"\n",
    "# Preprocess Training, Validation, and Testing Data\n",
    "helper.preprocess_and_save_data(cifar10_dataset_folder_path, normalize, one_hot_encode)"
   ]
  },
  {
   "cell_type": "markdown",
   "metadata": {
    "deletable": true,
    "editable": true
   },
   "source": [
    "# Check Point\n",
    "This is your first checkpoint.  If you ever decide to come back to this notebook or have to restart the notebook, you can start from here.  The preprocessed data has been saved to disk."
   ]
  },
  {
   "cell_type": "code",
   "execution_count": 7,
   "metadata": {
    "collapsed": true,
    "deletable": true,
    "editable": true
   },
   "outputs": [],
   "source": [
    "\"\"\"\n",
    "DON'T MODIFY ANYTHING IN THIS CELL\n",
    "\"\"\"\n",
    "import pickle\n",
    "import problem_unittests as tests\n",
    "import helper\n",
    "\n",
    "# Load the Preprocessed Validation data\n",
    "valid_features, valid_labels = pickle.load(open('preprocess_validation.p', mode='rb'))"
   ]
  },
  {
   "cell_type": "markdown",
   "metadata": {
    "deletable": true,
    "editable": true
   },
   "source": [
    "## Build the network\n",
    "For the neural network, you'll build each layer into a function.  Most of the code you've seen has been outside of functions. To test your code more thoroughly, we require that you put each layer in a function.  This allows us to give you better feedback and test for simple mistakes using our unittests before you submit your project.\n",
    "\n",
    ">**Note:** If you're finding it hard to dedicate enough time for this course each week, we've provided a small shortcut to this part of the project. In the next couple of problems, you'll have the option to use classes from the [TensorFlow Layers](https://www.tensorflow.org/api_docs/python/tf/layers) or [TensorFlow Layers (contrib)](https://www.tensorflow.org/api_guides/python/contrib.layers) packages to build each layer, except the layers you build in the \"Convolutional and Max Pooling Layer\" section.  TF Layers is similar to Keras's and TFLearn's abstraction to layers, so it's easy to pickup.\n",
    "\n",
    ">However, if you would like to get the most out of this course, try to solve all the problems _without_ using anything from the TF Layers packages. You **can** still use classes from other packages that happen to have the same name as ones you find in TF Layers! For example, instead of using the TF Layers version of the `conv2d` class, [tf.layers.conv2d](https://www.tensorflow.org/api_docs/python/tf/layers/conv2d), you would want to use the TF Neural Network version of `conv2d`, [tf.nn.conv2d](https://www.tensorflow.org/api_docs/python/tf/nn/conv2d). \n",
    "\n",
    "Let's begin!\n",
    "\n",
    "### Input\n",
    "The neural network needs to read the image data, one-hot encoded labels, and dropout keep probability. Implement the following functions\n",
    "* Implement `neural_net_image_input`\n",
    " * Return a [TF Placeholder](https://www.tensorflow.org/api_docs/python/tf/placeholder)\n",
    " * Set the shape using `image_shape` with batch size set to `None`.\n",
    " * Name the TensorFlow placeholder \"x\" using the TensorFlow `name` parameter in the [TF Placeholder](https://www.tensorflow.org/api_docs/python/tf/placeholder).\n",
    "* Implement `neural_net_label_input`\n",
    " * Return a [TF Placeholder](https://www.tensorflow.org/api_docs/python/tf/placeholder)\n",
    " * Set the shape using `n_classes` with batch size set to `None`.\n",
    " * Name the TensorFlow placeholder \"y\" using the TensorFlow `name` parameter in the [TF Placeholder](https://www.tensorflow.org/api_docs/python/tf/placeholder).\n",
    "* Implement `neural_net_keep_prob_input`\n",
    " * Return a [TF Placeholder](https://www.tensorflow.org/api_docs/python/tf/placeholder) for dropout keep probability.\n",
    " * Name the TensorFlow placeholder \"keep_prob\" using the TensorFlow `name` parameter in the [TF Placeholder](https://www.tensorflow.org/api_docs/python/tf/placeholder).\n",
    "\n",
    "These names will be used at the end of the project to load your saved model.\n",
    "\n",
    "Note: `None` for shapes in TensorFlow allow for a dynamic size."
   ]
  },
  {
   "cell_type": "code",
   "execution_count": 8,
   "metadata": {
    "collapsed": false,
    "deletable": true,
    "editable": true
   },
   "outputs": [
    {
     "name": "stdout",
     "output_type": "stream",
     "text": [
      "Image Input Tests Passed.\n",
      "Label Input Tests Passed.\n",
      "Keep Prob Tests Passed.\n"
     ]
    }
   ],
   "source": [
    "import tensorflow as tf\n",
    "\n",
    "def neural_net_image_input(image_shape):\n",
    "    \"\"\"\n",
    "    Return a Tensor for a batch of image input\n",
    "    : image_shape: Shape of the images\n",
    "    : return: Tensor for image input.\n",
    "    \"\"\"\n",
    "    # TODO: Implement Function\n",
    "    \n",
    "     \n",
    "    \n",
    "    return tf.placeholder(tf.float32, shape=[None, image_shape[0],image_shape[1],image_shape[2]],name='x')\n",
    "\n",
    "\n",
    "def neural_net_label_input(n_classes):\n",
    "    \"\"\"\n",
    "    Return a Tensor for a batch of label input\n",
    "    : n_classes: Number of classes\n",
    "    : return: Tensor for label input.\n",
    "    \"\"\"\n",
    "    # TODO: Implement Function\n",
    "    \n",
    "    return tf.placeholder(tf.float32, shape=[None, n_classes],name='y')\n",
    "\n",
    "\n",
    "def neural_net_keep_prob_input():\n",
    "    \"\"\"\n",
    "    Return a Tensor for keep probability\n",
    "    : return: Tensor for keep probability.\n",
    "    \"\"\"\n",
    "    # TODO: Implement Function\n",
    "    \n",
    "    return tf.placeholder(tf.float32, name='keep_prob')\n",
    "\n",
    "\n",
    "\n",
    "\"\"\"\n",
    "DON'T MODIFY ANYTHING IN THIS CELL THAT IS BELOW THIS LINE\n",
    "\"\"\"\n",
    "tf.reset_default_graph()\n",
    "tests.test_nn_image_inputs(neural_net_image_input)\n",
    "tests.test_nn_label_inputs(neural_net_label_input)\n",
    "tests.test_nn_keep_prob_inputs(neural_net_keep_prob_input)"
   ]
  },
  {
   "cell_type": "markdown",
   "metadata": {
    "deletable": true,
    "editable": true
   },
   "source": [
    "### Convolution and Max Pooling Layer\n",
    "Convolution layers have a lot of success with images. For this code cell, you should implement the function `conv2d_maxpool` to apply convolution then max pooling:\n",
    "* Create the weight and bias using `conv_ksize`, `conv_num_outputs` and the shape of `x_tensor`.\n",
    "* Apply a convolution to `x_tensor` using weight and `conv_strides`.\n",
    " * We recommend you use same padding, but you're welcome to use any padding.\n",
    "* Add bias\n",
    "* Add a nonlinear activation to the convolution.\n",
    "* Apply Max Pooling using `pool_ksize` and `pool_strides`.\n",
    " * We recommend you use same padding, but you're welcome to use any padding.\n",
    "\n",
    "**Note:** You **can't** use [TensorFlow Layers](https://www.tensorflow.org/api_docs/python/tf/layers) or [TensorFlow Layers (contrib)](https://www.tensorflow.org/api_guides/python/contrib.layers) for **this** layer, but you can still use TensorFlow's [Neural Network](https://www.tensorflow.org/api_docs/python/tf/nn) package. You may still use the shortcut option for all the **other** layers."
   ]
  },
  {
   "cell_type": "code",
   "execution_count": 9,
   "metadata": {
    "collapsed": false,
    "deletable": true,
    "editable": true
   },
   "outputs": [
    {
     "name": "stdout",
     "output_type": "stream",
     "text": [
      "Tests Passed\n"
     ]
    }
   ],
   "source": [
    "def conv2d_maxpool(x_tensor, conv_num_outputs, conv_ksize, conv_strides, pool_ksize, pool_strides, use_pooling=True):\n",
    "    \"\"\"\n",
    "    Apply convolution then max pooling to x_tensor\n",
    "    :param x_tensor: TensorFlow Tensor\n",
    "    :param conv_num_outputs: Number of outputs for the convolutional layer\n",
    "    :param conv_ksize: kernal size 2-D Tuple for the convolutional layer\n",
    "    :param conv_strides: Stride 2-D Tuple for convolution\n",
    "    :param pool_ksize: kernal size 2-D Tuple for pool\n",
    "    :param pool_strides: Stride 2-D Tuple for pool\n",
    "    : return: A tensor that represents convolution and max pooling of x_tensor\n",
    "    \n",
    "    Note: I have modified the architecture of the conv2d_maxpool to make max pooling optional\n",
    "    \n",
    "    \"\"\"\n",
    "    # TODO: Implement Function\n",
    "    \n",
    "    conv_input_channels = x_tensor.get_shape().as_list()[-1]\n",
    "    \n",
    "    shape = [conv_ksize[0], conv_ksize[1], conv_input_channels, conv_num_outputs]\n",
    "    \n",
    "    weight = tf.Variable(tf.truncated_normal(shape, stddev=0.05))\n",
    "    \n",
    "    bias = tf.Variable(tf.constant(0.1, shape=[conv_num_outputs]))\n",
    "#     bias = tf.zeros(shape=[conv_num_outputs])\n",
    "    layer = tf.nn.conv2d(input=x_tensor ,filter=weight,strides=[1, conv_strides[0], conv_strides[1], 1],padding='SAME')\n",
    "    \n",
    "    layer+=bias\n",
    "    \n",
    "    \n",
    "    if use_pooling:\n",
    "        \n",
    "        layer = tf.nn.max_pool(value=layer,ksize=[1, pool_ksize[0], pool_ksize[1], 1],strides=[1, pool_strides[0], pool_strides[1], 1],padding='SAME')\n",
    "    \n",
    "    #Since relu is simple thresholding, it should not matter if I apply it before or after pooling.\n",
    "    #By doing this after pooling, thanks to the downsampling, I can save on the number of operations \n",
    "    \n",
    "    layer = tf.nn.elu(layer)\n",
    "        \n",
    "    return layer \n",
    "\n",
    "\n",
    "\"\"\"\n",
    "DON'T MODIFY ANYTHING IN THIS CELL THAT IS BELOW THIS LINE\n",
    "\"\"\"\n",
    "tests.test_con_pool(conv2d_maxpool)"
   ]
  },
  {
   "cell_type": "markdown",
   "metadata": {
    "deletable": true,
    "editable": true
   },
   "source": [
    "### Flatten Layer\n",
    "Implement the `flatten` function to change the dimension of `x_tensor` from a 4-D tensor to a 2-D tensor.  The output should be the shape (*Batch Size*, *Flattened Image Size*). Shortcut option: you can use classes from the [TensorFlow Layers](https://www.tensorflow.org/api_docs/python/tf/layers) or [TensorFlow Layers (contrib)](https://www.tensorflow.org/api_guides/python/contrib.layers) packages for this layer. For more of a challenge, only use other TensorFlow packages."
   ]
  },
  {
   "cell_type": "code",
   "execution_count": 10,
   "metadata": {
    "collapsed": false,
    "deletable": true,
    "editable": true
   },
   "outputs": [
    {
     "name": "stdout",
     "output_type": "stream",
     "text": [
      "Tests Passed\n"
     ]
    }
   ],
   "source": [
    "def flatten(x_tensor):\n",
    "    \"\"\"\n",
    "    Flatten x_tensor to (Batch Size, Flattened Image Size)\n",
    "    : x_tensor: A tensor of size (Batch Size, ...), where ... are the image dimensions.\n",
    "    : return: A tensor of size (Batch Size, Flattened Image Size).\n",
    "    \"\"\"\n",
    "    # TODO: Implement Function\n",
    "    \n",
    "    shape = x_tensor.get_shape()\n",
    "    \n",
    "    flat_image = shape[1:4].num_elements()\n",
    "    \n",
    "    x_tensor_flat = tf.reshape(x_tensor, [-1,flat_image])\n",
    "    \n",
    "    return x_tensor_flat\n",
    "\n",
    "\"\"\"\n",
    "DON'T MODIFY ANYTHING IN THIS CELL THAT IS BELOW THIS LINE\n",
    "\"\"\"\n",
    "tests.test_flatten(flatten)"
   ]
  },
  {
   "cell_type": "markdown",
   "metadata": {
    "deletable": true,
    "editable": true
   },
   "source": [
    "### Fully-Connected Layer\n",
    "Implement the `fully_conn` function to apply a fully connected layer to `x_tensor` with the shape (*Batch Size*, *num_outputs*). Shortcut option: you can use classes from the [TensorFlow Layers](https://www.tensorflow.org/api_docs/python/tf/layers) or [TensorFlow Layers (contrib)](https://www.tensorflow.org/api_guides/python/contrib.layers) packages for this layer. For more of a challenge, only use other TensorFlow packages."
   ]
  },
  {
   "cell_type": "code",
   "execution_count": 11,
   "metadata": {
    "collapsed": false,
    "deletable": true,
    "editable": true
   },
   "outputs": [
    {
     "name": "stdout",
     "output_type": "stream",
     "text": [
      "Tests Passed\n"
     ]
    }
   ],
   "source": [
    "def fully_conn(x_tensor, num_outputs):\n",
    "    \"\"\"\n",
    "    Apply a fully connected layer to x_tensor using weight and bias\n",
    "    : x_tensor: A 2-D tensor where the first dimension is batch size.\n",
    "    : num_outputs: The number of output that the new tensor should be.\n",
    "    : return: A 2-D tensor where the second dimension is num_outputs.\n",
    "    \"\"\"\n",
    "    # TODO: Implement Function\n",
    "    \n",
    "    num_inputs = x_tensor.get_shape().as_list()[1]\n",
    "    weight = tf.Variable(tf.truncated_normal([num_inputs,num_outputs], stddev=0.05))\n",
    "    \n",
    "    bias = tf.Variable(tf.constant(0.1, shape=[num_outputs]))\n",
    "#     bias = tf.zeros(shape=[num_outputs])\n",
    "    layer = tf.matmul(x_tensor, weight) + bias\n",
    "    \n",
    "    layer = tf.nn.elu(layer)\n",
    "\n",
    "    \n",
    "    \n",
    "    return layer\n",
    "\n",
    "\n",
    "\"\"\"\n",
    "DON'T MODIFY ANYTHING IN THIS CELL THAT IS BELOW THIS LINE\n",
    "\"\"\"\n",
    "tests.test_fully_conn(fully_conn)"
   ]
  },
  {
   "cell_type": "markdown",
   "metadata": {
    "deletable": true,
    "editable": true
   },
   "source": [
    "### Output Layer\n",
    "Implement the `output` function to apply a fully connected layer to `x_tensor` with the shape (*Batch Size*, *num_outputs*). Shortcut option: you can use classes from the [TensorFlow Layers](https://www.tensorflow.org/api_docs/python/tf/layers) or [TensorFlow Layers (contrib)](https://www.tensorflow.org/api_guides/python/contrib.layers) packages for this layer. For more of a challenge, only use other TensorFlow packages.\n",
    "\n",
    "**Note:** Activation, softmax, or cross entropy should **not** be applied to this."
   ]
  },
  {
   "cell_type": "code",
   "execution_count": 12,
   "metadata": {
    "collapsed": false,
    "deletable": true,
    "editable": true
   },
   "outputs": [
    {
     "name": "stdout",
     "output_type": "stream",
     "text": [
      "Tests Passed\n"
     ]
    }
   ],
   "source": [
    "def output(x_tensor, num_outputs):\n",
    "    \"\"\"\n",
    "    Apply a output layer to x_tensor using weight and bias\n",
    "    : x_tensor: A 2-D tensor where the first dimension is batch size.\n",
    "    : num_outputs: The number of output that the new tensor should be.\n",
    "    : return: A 2-D tensor where the second dimension is num_outputs.\n",
    "    \"\"\"\n",
    "    # TODO: Implement Function\n",
    "    num_inputs = x_tensor.get_shape().as_list()[1]\n",
    "    weight = tf.Variable(tf.truncated_normal([num_inputs,num_outputs], stddev=0.05))\n",
    "    \n",
    "#     bias = tf.Variable(tf.constant(0.05, shape=[num_outputs]))\n",
    "    bias = tf.zeros(shape=[num_outputs])\n",
    "    layer = tf.matmul(x_tensor, weight) + bias\n",
    "    \n",
    "    return layer\n",
    "\n",
    "\n",
    "\"\"\"\n",
    "DON'T MODIFY ANYTHING IN THIS CELL THAT IS BELOW THIS LINE\n",
    "\"\"\"\n",
    "tests.test_output(output)"
   ]
  },
  {
   "cell_type": "markdown",
   "metadata": {
    "deletable": true,
    "editable": true
   },
   "source": [
    "### Create Convolutional Model\n",
    "Implement the function `conv_net` to create a convolutional neural network model. The function takes in a batch of images, `x`, and outputs logits.  Use the layers you created above to create this model:\n",
    "\n",
    "* Apply 1, 2, or 3 Convolution and Max Pool layers\n",
    "* Apply a Flatten Layer\n",
    "* Apply 1, 2, or 3 Fully Connected Layers\n",
    "* Apply an Output Layer\n",
    "* Return the output\n",
    "* Apply [TensorFlow's Dropout](https://www.tensorflow.org/api_docs/python/tf/nn/dropout) to one or more layers in the model using `keep_prob`. "
   ]
  },
  {
   "cell_type": "code",
   "execution_count": 13,
   "metadata": {
    "collapsed": false,
    "deletable": true,
    "editable": true
   },
   "outputs": [
    {
     "name": "stdout",
     "output_type": "stream",
     "text": [
      "Neural Network Built!\n"
     ]
    }
   ],
   "source": [
    "def conv_net(x, keep_prob):\n",
    "    \"\"\"\n",
    "    Create a convolutional neural network model\n",
    "    : x: Placeholder tensor that holds image data.\n",
    "    : keep_prob: Placeholder tensor that hold dropout keep probability.\n",
    "    : return: Tensor that represents logits\n",
    "    \"\"\"\n",
    "    # TODO: Apply 1, 2, or 3 Convolution and Max Pool layers\n",
    "    #    Play around with different number of outputs, kernel size and stride\n",
    "    # Function Definition from Above:\n",
    "    #    conv2d_maxpool(x_tensor, conv_num_outputs, conv_ksize, conv_strides, pool_ksize, pool_strides,use_pool)\n",
    "    \n",
    "    layer = conv2d_maxpool(x, 64, [3,3], [1,1], [2,2], [2,2],use_pooling=False)\n",
    "    layer = conv2d_maxpool(layer, 64, [5,5], [1,1], [3,3], [2,2],use_pooling=True)\n",
    "    \n",
    "    # TODO: Apply a Flatten Layer\n",
    "    # Function Definition from Above:\n",
    "    #   flatten(x_tensor)\n",
    "    layer = flatten(layer)\n",
    "\n",
    "    # TODO: Apply 1, 2, or 3 Fully Connected Layers\n",
    "    #    Play around with different number of outputs\n",
    "    # Function Definition from Above:\n",
    "    #   fully_conn(x_tensor, num_outputs)\n",
    "    \n",
    "    layer = fully_conn(layer, 512)\n",
    "    layer = tf.nn.dropout(layer, keep_prob)\n",
    "    layer = fully_conn(layer, 512)\n",
    "    layer = tf.nn.dropout(layer, keep_prob)\n",
    "    layer = fully_conn(layer, 512)\n",
    "    \n",
    "#     layer = fully_conn(layer, 256)\n",
    "#     layer = tf.nn.dropout(layer, keep_prob)\n",
    "#     layer = fully_conn(layer, 256)\n",
    "#     layer = tf.nn.dropout(layer, keep_prob)\n",
    "#     layer = fully_conn(layer, 256)\n",
    "#     layer = tf.nn.dropout(layer, keep_prob)\n",
    "    \n",
    "\n",
    "    \n",
    "    # TODO: Apply an Output Layer\n",
    "    #    Set this to the number of classes\n",
    "    # Function Definition from Above:\n",
    "    #   output(x_tensor, num_outputs)\n",
    "    \n",
    "    layer = output(layer,10)\n",
    "#     layer = tf.nn.dropout(layer, keep_prob)\n",
    "    \n",
    "    # TODO: return output\n",
    "    return layer\n",
    "\n",
    "\n",
    "\"\"\"\n",
    "DON'T MODIFY ANYTHING IN THIS CELL THAT IS BELOW THIS LINE\n",
    "\"\"\"\n",
    "\n",
    "##############################\n",
    "## Build the Neural Network ##\n",
    "##############################\n",
    "\n",
    "# Remove previous weights, bias, inputs, etc..\n",
    "tf.reset_default_graph()\n",
    "\n",
    "# Inputs\n",
    "x = neural_net_image_input((32, 32, 3))\n",
    "y = neural_net_label_input(10)\n",
    "keep_prob = neural_net_keep_prob_input()\n",
    "\n",
    "# Model\n",
    "logits = conv_net(x, keep_prob)\n",
    "\n",
    "# Name logits Tensor, so that is can be loaded from disk after training\n",
    "logits = tf.identity(logits, name='logits')\n",
    "\n",
    "# Loss and Optimizer\n",
    "cost = tf.reduce_mean(tf.nn.softmax_cross_entropy_with_logits(logits=logits, labels=y))\n",
    "optimizer = tf.train.AdamOptimizer().minimize(cost)\n",
    "\n",
    "# Accuracy\n",
    "correct_pred = tf.equal(tf.argmax(logits, 1), tf.argmax(y, 1))\n",
    "accuracy = tf.reduce_mean(tf.cast(correct_pred, tf.float32), name='accuracy')\n",
    "\n",
    "tests.test_conv_net(conv_net)"
   ]
  },
  {
   "cell_type": "markdown",
   "metadata": {
    "deletable": true,
    "editable": true
   },
   "source": [
    "## Train the Neural Network\n",
    "### Single Optimization\n",
    "Implement the function `train_neural_network` to do a single optimization.  The optimization should use `optimizer` to optimize in `session` with a `feed_dict` of the following:\n",
    "* `x` for image input\n",
    "* `y` for labels\n",
    "* `keep_prob` for keep probability for dropout\n",
    "\n",
    "This function will be called for each batch, so `tf.global_variables_initializer()` has already been called.\n",
    "\n",
    "Note: Nothing needs to be returned. This function is only optimizing the neural network."
   ]
  },
  {
   "cell_type": "code",
   "execution_count": 14,
   "metadata": {
    "collapsed": false,
    "deletable": true,
    "editable": true
   },
   "outputs": [
    {
     "name": "stdout",
     "output_type": "stream",
     "text": [
      "Tests Passed\n"
     ]
    }
   ],
   "source": [
    "def train_neural_network(session, optimizer, keep_probability, feature_batch, label_batch):\n",
    "    \"\"\"\n",
    "    Optimize the session on a batch of images and labels\n",
    "    : session: Current TensorFlow session\n",
    "    : optimizer: TensorFlow optimizer function\n",
    "    : keep_probability: keep probability\n",
    "    : feature_batch: Batch of Numpy image data\n",
    "    : label_batch: Batch of Numpy label data\n",
    "    \"\"\"\n",
    "    # TODO: Implement Function\n",
    "    \n",
    "    session.run(optimizer, feed_dict={x: feature_batch, y: label_batch, keep_prob: keep_probability})\n",
    "\n",
    "    \n",
    "    \n",
    "\n",
    "\n",
    "\"\"\"\n",
    "DON'T MODIFY ANYTHING IN THIS CELL THAT IS BELOW THIS LINE\n",
    "\"\"\"\n",
    "tests.test_train_nn(train_neural_network)"
   ]
  },
  {
   "cell_type": "markdown",
   "metadata": {
    "deletable": true,
    "editable": true
   },
   "source": [
    "### Show Stats\n",
    "Implement the function `print_stats` to print loss and validation accuracy.  Use the global variables `valid_features` and `valid_labels` to calculate validation accuracy.  Use a keep probability of `1.0` to calculate the loss and validation accuracy."
   ]
  },
  {
   "cell_type": "code",
   "execution_count": 15,
   "metadata": {
    "collapsed": true,
    "deletable": true,
    "editable": true
   },
   "outputs": [],
   "source": [
    "##I have been using floydhub to train, while experimenting with filter sizes, filter sizes greater than 128 would result\n",
    "## in a ResourceExhaust error. I figured out it was because we're loading the entire validation set into the memory at once\n",
    "## so I've modified the function slightly to pick up chunks of validation data and calculate the accuracy. \n",
    "## Final validation accuracy is calculated by taking the average across all the chunks\n",
    "\n",
    "def print_stats(session, feature_batch, label_batch, cost, accuracy):\n",
    "    \"\"\"\n",
    "    Print information about loss and validation accuracy\n",
    "    : session: Current TensorFlow session\n",
    "    : feature_batch: Batch of Numpy image data\n",
    "    : label_batch: Batch of Numpy label data\n",
    "    : cost: TensorFlow cost function\n",
    "    : accuracy: TensorFlow accuracy function\n",
    "    \"\"\"\n",
    "    loss = session.run(cost, feed_dict={\n",
    "                x: feature_batch,\n",
    "                y: label_batch,\n",
    "                keep_prob: 1.})\n",
    "    \n",
    "    validation_length = valid_features.shape[0] - 1\n",
    "    validation_batch_size = 200\n",
    "    valid_acc = 0\n",
    "    count = 0\n",
    "    for chunk_start in range(0,validation_length,validation_batch_size):\n",
    "        chunk_end = chunk_start + batch_size -1\n",
    "        features = valid_features[chunk_start:chunk_end]\n",
    "        labels = valid_labels[chunk_start:chunk_end]\n",
    "        valid_acc += session.run(accuracy, feed_dict={x: features,y: labels,keep_prob: 1.})\n",
    "        count += 1\n",
    "    valid_acc = valid_acc / count\n",
    "#     valid_acc = session.run(accuracy, feed_dict={x: valid_features, y: valid_labels, keep_prob: 1.})\n",
    "    print('Loss: {:.4f} Validation Accuracy: {:.6f}'.format(loss, valid_acc))"
   ]
  },
  {
   "cell_type": "markdown",
   "metadata": {
    "deletable": true,
    "editable": true
   },
   "source": [
    "### Hyperparameters\n",
    "Tune the following parameters:\n",
    "* Set `epochs` to the number of iterations until the network stops learning or start overfitting\n",
    "* Set `batch_size` to the highest number that your machine has memory for.  Most people set them to common sizes of memory:\n",
    " * 64\n",
    " * 128\n",
    " * 256\n",
    " * ...\n",
    "* Set `keep_probability` to the probability of keeping a node using dropout"
   ]
  },
  {
   "cell_type": "code",
   "execution_count": 16,
   "metadata": {
    "collapsed": true,
    "deletable": true,
    "editable": true
   },
   "outputs": [],
   "source": [
    "# TODO: Tune Parameters\n",
    "epochs = 100\n",
    "batch_size = 256\n",
    "keep_probability = 0.5"
   ]
  },
  {
   "cell_type": "markdown",
   "metadata": {
    "deletable": true,
    "editable": true
   },
   "source": [
    "### Train on a Single CIFAR-10 Batch\n",
    "Instead of training the neural network on all the CIFAR-10 batches of data, let's use a single batch. This should save time while you iterate on the model to get a better accuracy.  Once the final validation accuracy is 50% or greater, run the model on all the data in the next section."
   ]
  },
  {
   "cell_type": "code",
   "execution_count": 17,
   "metadata": {
    "collapsed": false,
    "deletable": true,
    "editable": true,
    "scrolled": true
   },
   "outputs": [
    {
     "name": "stdout",
     "output_type": "stream",
     "text": [
      "Checking the Training on a Single Batch...\n",
      "Epoch  1, CIFAR-10 Batch 1:  Loss: 2.0094 Validation Accuracy: 0.314918\n",
      "Epoch  2, CIFAR-10 Batch 1:  Loss: 1.5120 Validation Accuracy: 0.442400\n",
      "Epoch  3, CIFAR-10 Batch 1:  Loss: 1.1651 Validation Accuracy: 0.475173\n",
      "Epoch  4, CIFAR-10 Batch 1:  Loss: 0.9284 Validation Accuracy: 0.500769\n",
      "Epoch  5, CIFAR-10 Batch 1:  Loss: 0.7255 Validation Accuracy: 0.534926\n",
      "Epoch  6, CIFAR-10 Batch 1:  Loss: 0.6174 Validation Accuracy: 0.504851\n",
      "Epoch  7, CIFAR-10 Batch 1:  Loss: 0.4446 Validation Accuracy: 0.548243\n",
      "Epoch  8, CIFAR-10 Batch 1:  Loss: 0.2995 Validation Accuracy: 0.565259\n",
      "Epoch  9, CIFAR-10 Batch 1:  Loss: 0.2404 Validation Accuracy: 0.574200\n",
      "Epoch 10, CIFAR-10 Batch 1:  Loss: 0.1977 Validation Accuracy: 0.554804\n",
      "Epoch 11, CIFAR-10 Batch 1:  Loss: 0.1266 Validation Accuracy: 0.586451\n",
      "Epoch 12, CIFAR-10 Batch 1:  Loss: 0.0695 Validation Accuracy: 0.578976\n",
      "Epoch 13, CIFAR-10 Batch 1:  Loss: 0.0685 Validation Accuracy: 0.588188\n",
      "Epoch 14, CIFAR-10 Batch 1:  Loss: 0.0330 Validation Accuracy: 0.583271\n",
      "Epoch 15, CIFAR-10 Batch 1:  Loss: 0.0256 Validation Accuracy: 0.601055\n",
      "Epoch 16, CIFAR-10 Batch 1:  Loss: 0.0217 Validation Accuracy: 0.596933\n",
      "Epoch 17, CIFAR-10 Batch 1:  Loss: 0.0426 Validation Accuracy: 0.587176\n",
      "Epoch 18, CIFAR-10 Batch 1:  Loss: 0.0119 Validation Accuracy: 0.601682\n",
      "Epoch 19, CIFAR-10 Batch 1:  Loss: 0.0061 Validation Accuracy: 0.604263\n",
      "Epoch 20, CIFAR-10 Batch 1:  Loss: 0.0044 Validation Accuracy: 0.612008\n",
      "Epoch 21, CIFAR-10 Batch 1:  Loss: 0.0087 Validation Accuracy: 0.611451\n",
      "Epoch 22, CIFAR-10 Batch 1:  Loss: 0.0053 Validation Accuracy: 0.620078\n",
      "Epoch 23, CIFAR-10 Batch 1:  Loss: 0.0051 Validation Accuracy: 0.612263\n",
      "Epoch 24, CIFAR-10 Batch 1:  Loss: 0.0024 Validation Accuracy: 0.608341\n",
      "Epoch 25, CIFAR-10 Batch 1:  Loss: 0.0017 Validation Accuracy: 0.602494\n",
      "Epoch 26, CIFAR-10 Batch 1:  Loss: 0.0039 Validation Accuracy: 0.597404\n",
      "Epoch 27, CIFAR-10 Batch 1:  Loss: 0.0025 Validation Accuracy: 0.617941\n",
      "Epoch 28, CIFAR-10 Batch 1:  Loss: 0.0020 Validation Accuracy: 0.593796\n",
      "Epoch 29, CIFAR-10 Batch 1:  Loss: 0.0009 Validation Accuracy: 0.611294\n",
      "Epoch 30, CIFAR-10 Batch 1:  Loss: 0.0005 Validation Accuracy: 0.631275\n",
      "Epoch 31, CIFAR-10 Batch 1:  Loss: 0.0009 Validation Accuracy: 0.622788\n",
      "Epoch 32, CIFAR-10 Batch 1:  Loss: 0.0009 Validation Accuracy: 0.621965\n",
      "Epoch 33, CIFAR-10 Batch 1:  Loss: 0.0008 Validation Accuracy: 0.615800\n",
      "Epoch 34, CIFAR-10 Batch 1:  Loss: 0.0016 Validation Accuracy: 0.611710\n",
      "Epoch 35, CIFAR-10 Batch 1:  Loss: 0.0003 Validation Accuracy: 0.599529\n",
      "Epoch 36, CIFAR-10 Batch 1:  Loss: 0.0003 Validation Accuracy: 0.608157\n",
      "Epoch 37, CIFAR-10 Batch 1:  Loss: 0.0003 Validation Accuracy: 0.609353\n",
      "Epoch 38, CIFAR-10 Batch 1:  Loss: 0.0005 Validation Accuracy: 0.625141\n",
      "Epoch 39, CIFAR-10 Batch 1:  Loss: 0.0002 Validation Accuracy: 0.614631\n",
      "Epoch 40, CIFAR-10 Batch 1:  Loss: 0.0005 Validation Accuracy: 0.611722\n",
      "Epoch 41, CIFAR-10 Batch 1:  Loss: 0.0015 Validation Accuracy: 0.618267\n",
      "Epoch 42, CIFAR-10 Batch 1:  Loss: 0.0005 Validation Accuracy: 0.619267\n",
      "Epoch 43, CIFAR-10 Batch 1:  Loss: 0.0002 Validation Accuracy: 0.614914\n",
      "Epoch 44, CIFAR-10 Batch 1:  Loss: 0.0003 Validation Accuracy: 0.632514\n",
      "Epoch 45, CIFAR-10 Batch 1:  Loss: 0.0007 Validation Accuracy: 0.621761\n",
      "Epoch 46, CIFAR-10 Batch 1:  Loss: 0.0001 Validation Accuracy: 0.618667\n",
      "Epoch 47, CIFAR-10 Batch 1:  Loss: 0.0000 Validation Accuracy: 0.630475\n",
      "Epoch 48, CIFAR-10 Batch 1:  Loss: 0.0001 Validation Accuracy: 0.630659\n",
      "Epoch 49, CIFAR-10 Batch 1:  Loss: 0.0003 Validation Accuracy: 0.631757\n",
      "Epoch 50, CIFAR-10 Batch 1:  Loss: 0.0002 Validation Accuracy: 0.625071\n",
      "Epoch 51, CIFAR-10 Batch 1:  Loss: 0.0001 Validation Accuracy: 0.634867\n",
      "Epoch 52, CIFAR-10 Batch 1:  Loss: 0.0000 Validation Accuracy: 0.632086\n",
      "Epoch 53, CIFAR-10 Batch 1:  Loss: 0.0000 Validation Accuracy: 0.633326\n",
      "Epoch 54, CIFAR-10 Batch 1:  Loss: 0.0000 Validation Accuracy: 0.626478\n",
      "Epoch 55, CIFAR-10 Batch 1:  Loss: 0.0001 Validation Accuracy: 0.631600\n",
      "Epoch 56, CIFAR-10 Batch 1:  Loss: 0.0007 Validation Accuracy: 0.630361\n",
      "Epoch 57, CIFAR-10 Batch 1:  Loss: 0.0000 Validation Accuracy: 0.639031\n",
      "Epoch 58, CIFAR-10 Batch 1:  Loss: 0.0001 Validation Accuracy: 0.629047\n",
      "Epoch 59, CIFAR-10 Batch 1:  Loss: 0.0001 Validation Accuracy: 0.624898\n",
      "Epoch 60, CIFAR-10 Batch 1:  Loss: 0.0001 Validation Accuracy: 0.624882\n",
      "Epoch 61, CIFAR-10 Batch 1:  Loss: 0.0001 Validation Accuracy: 0.619208\n",
      "Epoch 62, CIFAR-10 Batch 1:  Loss: 0.0000 Validation Accuracy: 0.630918\n",
      "Epoch 63, CIFAR-10 Batch 1:  Loss: 0.0000 Validation Accuracy: 0.636122\n",
      "Epoch 64, CIFAR-10 Batch 1:  Loss: 0.0000 Validation Accuracy: 0.632086\n",
      "Epoch 65, CIFAR-10 Batch 1:  Loss: 0.0000 Validation Accuracy: 0.638204\n",
      "Epoch 66, CIFAR-10 Batch 1:  Loss: 0.0000 Validation Accuracy: 0.641098\n",
      "Epoch 67, CIFAR-10 Batch 1:  Loss: 0.0000 Validation Accuracy: 0.626596\n",
      "Epoch 68, CIFAR-10 Batch 1:  Loss: 0.0001 Validation Accuracy: 0.615843\n",
      "Epoch 69, CIFAR-10 Batch 1:  Loss: 0.0000 Validation Accuracy: 0.625596\n",
      "Epoch 70, CIFAR-10 Batch 1:  Loss: 0.0000 Validation Accuracy: 0.636478\n",
      "Epoch 71, CIFAR-10 Batch 1:  Loss: 0.0000 Validation Accuracy: 0.623702\n",
      "Epoch 72, CIFAR-10 Batch 1:  Loss: 0.0003 Validation Accuracy: 0.633926\n",
      "Epoch 73, CIFAR-10 Batch 1:  Loss: 0.0000 Validation Accuracy: 0.625710\n",
      "Epoch 74, CIFAR-10 Batch 1:  Loss: 0.0000 Validation Accuracy: 0.634753\n",
      "Epoch 75, CIFAR-10 Batch 1:  Loss: 0.0000 Validation Accuracy: 0.638204\n",
      "Epoch 76, CIFAR-10 Batch 1:  Loss: 0.0000 Validation Accuracy: 0.635180\n",
      "Epoch 77, CIFAR-10 Batch 1:  Loss: 0.0000 Validation Accuracy: 0.632486\n",
      "Epoch 78, CIFAR-10 Batch 1:  Loss: 0.0000 Validation Accuracy: 0.620678\n",
      "Epoch 79, CIFAR-10 Batch 1:  Loss: 0.0000 Validation Accuracy: 0.633984\n",
      "Epoch 80, CIFAR-10 Batch 1:  Loss: 0.0001 Validation Accuracy: 0.606388\n",
      "Epoch 81, CIFAR-10 Batch 1:  Loss: 0.0000 Validation Accuracy: 0.620776\n",
      "Epoch 82, CIFAR-10 Batch 1:  Loss: 0.0000 Validation Accuracy: 0.618980\n",
      "Epoch 83, CIFAR-10 Batch 1:  Loss: 0.0000 Validation Accuracy: 0.635824\n",
      "Epoch 84, CIFAR-10 Batch 1:  Loss: 0.0000 Validation Accuracy: 0.633926\n",
      "Epoch 85, CIFAR-10 Batch 1:  Loss: 0.0000 Validation Accuracy: 0.637035\n",
      "Epoch 86, CIFAR-10 Batch 1:  Loss: 0.0000 Validation Accuracy: 0.635737\n",
      "Epoch 87, CIFAR-10 Batch 1:  Loss: 0.0000 Validation Accuracy: 0.639090\n",
      "Epoch 88, CIFAR-10 Batch 1:  Loss: 0.0000 Validation Accuracy: 0.634482\n",
      "Epoch 89, CIFAR-10 Batch 1:  Loss: 0.0002 Validation Accuracy: 0.632800\n",
      "Epoch 90, CIFAR-10 Batch 1:  Loss: 0.0001 Validation Accuracy: 0.635267\n",
      "Epoch 91, CIFAR-10 Batch 1:  Loss: 0.0000 Validation Accuracy: 0.625114\n",
      "Epoch 92, CIFAR-10 Batch 1:  Loss: 0.0000 Validation Accuracy: 0.629647\n",
      "Epoch 93, CIFAR-10 Batch 1:  Loss: 0.0001 Validation Accuracy: 0.632627\n",
      "Epoch 94, CIFAR-10 Batch 1:  Loss: 0.0000 Validation Accuracy: 0.632514\n",
      "Epoch 95, CIFAR-10 Batch 1:  Loss: 0.0000 Validation Accuracy: 0.631584\n",
      "Epoch 96, CIFAR-10 Batch 1:  Loss: 0.0000 Validation Accuracy: 0.636478\n",
      "Epoch 97, CIFAR-10 Batch 1:  Loss: 0.0001 Validation Accuracy: 0.631102\n",
      "Epoch 98, CIFAR-10 Batch 1:  Loss: 0.0000 Validation Accuracy: 0.625510\n",
      "Epoch 99, CIFAR-10 Batch 1:  Loss: 0.0001 Validation Accuracy: 0.627678\n",
      "Epoch 100, CIFAR-10 Batch 1:  Loss: 0.0000 Validation Accuracy: 0.622118\n",
      "CPU times: user 4min 9s, sys: 3min 51s, total: 8min 1s\n",
      "Wall time: 9min 50s\n"
     ]
    }
   ],
   "source": [
    "%%time\n",
    "\"\"\"\n",
    "DON'T MODIFY ANYTHING IN THIS CELL\n",
    "\"\"\"\n",
    "print('Checking the Training on a Single Batch...')\n",
    "with tf.Session() as sess:\n",
    "    # Initializing the variables\n",
    "    sess.run(tf.global_variables_initializer())\n",
    "    \n",
    "    # Training cycle\n",
    "    for epoch in range(epochs):\n",
    "        batch_i = 1\n",
    "        for batch_features, batch_labels in helper.load_preprocess_training_batch(batch_i, batch_size):\n",
    "            train_neural_network(sess, optimizer, keep_probability, batch_features, batch_labels)\n",
    "        print('Epoch {:>2}, CIFAR-10 Batch {}:  '.format(epoch + 1, batch_i), end='')\n",
    "        print_stats(sess, batch_features, batch_labels, cost, accuracy)"
   ]
  },
  {
   "cell_type": "markdown",
   "metadata": {
    "deletable": true,
    "editable": true
   },
   "source": [
    "### Fully Train the Model\n",
    "Now that you got a good accuracy with a single CIFAR-10 batch, try it with all five batches."
   ]
  },
  {
   "cell_type": "code",
   "execution_count": 18,
   "metadata": {
    "collapsed": false,
    "deletable": true,
    "editable": true
   },
   "outputs": [
    {
     "name": "stdout",
     "output_type": "stream",
     "text": [
      "Training...\n",
      "Epoch  1, CIFAR-10 Batch 1:  Loss: 1.9331 Validation Accuracy: 0.378537\n",
      "Epoch  1, CIFAR-10 Batch 2:  Loss: 1.4430 Validation Accuracy: 0.423047\n",
      "Epoch  1, CIFAR-10 Batch 3:  Loss: 1.2018 Validation Accuracy: 0.460655\n",
      "Epoch  1, CIFAR-10 Batch 4:  Loss: 1.2991 Validation Accuracy: 0.501898\n",
      "Epoch  1, CIFAR-10 Batch 5:  Loss: 1.2827 Validation Accuracy: 0.520922\n",
      "Epoch  2, CIFAR-10 Batch 1:  Loss: 1.4009 Validation Accuracy: 0.525071\n",
      "Epoch  2, CIFAR-10 Batch 2:  Loss: 0.8626 Validation Accuracy: 0.563804\n",
      "Epoch  2, CIFAR-10 Batch 3:  Loss: 0.7347 Validation Accuracy: 0.564404\n",
      "Epoch  2, CIFAR-10 Batch 4:  Loss: 0.7969 Validation Accuracy: 0.603522\n",
      "Epoch  2, CIFAR-10 Batch 5:  Loss: 0.8341 Validation Accuracy: 0.613620\n",
      "Epoch  3, CIFAR-10 Batch 1:  Loss: 0.8062 Validation Accuracy: 0.619267\n",
      "Epoch  3, CIFAR-10 Batch 2:  Loss: 0.5457 Validation Accuracy: 0.610180\n",
      "Epoch  3, CIFAR-10 Batch 3:  Loss: 0.5163 Validation Accuracy: 0.612749\n",
      "Epoch  3, CIFAR-10 Batch 4:  Loss: 0.6182 Validation Accuracy: 0.632600\n",
      "Epoch  3, CIFAR-10 Batch 5:  Loss: 0.5203 Validation Accuracy: 0.640102\n",
      "Epoch  4, CIFAR-10 Batch 1:  Loss: 0.6246 Validation Accuracy: 0.633427\n",
      "Epoch  4, CIFAR-10 Batch 2:  Loss: 0.3947 Validation Accuracy: 0.636592\n",
      "Epoch  4, CIFAR-10 Batch 3:  Loss: 0.4098 Validation Accuracy: 0.650173\n",
      "Epoch  4, CIFAR-10 Batch 4:  Loss: 0.5650 Validation Accuracy: 0.653420\n",
      "Epoch  4, CIFAR-10 Batch 5:  Loss: 0.3431 Validation Accuracy: 0.666898\n",
      "Epoch  5, CIFAR-10 Batch 1:  Loss: 0.4985 Validation Accuracy: 0.645690\n",
      "Epoch  5, CIFAR-10 Batch 2:  Loss: 0.2712 Validation Accuracy: 0.656557\n",
      "Epoch  5, CIFAR-10 Batch 3:  Loss: 0.2892 Validation Accuracy: 0.677651\n",
      "Epoch  5, CIFAR-10 Batch 4:  Loss: 0.4015 Validation Accuracy: 0.666773\n",
      "Epoch  5, CIFAR-10 Batch 5:  Loss: 0.2196 Validation Accuracy: 0.668769\n",
      "Epoch  6, CIFAR-10 Batch 1:  Loss: 0.3260 Validation Accuracy: 0.675400\n",
      "Epoch  6, CIFAR-10 Batch 2:  Loss: 0.2114 Validation Accuracy: 0.670722\n",
      "Epoch  6, CIFAR-10 Batch 3:  Loss: 0.2005 Validation Accuracy: 0.690761\n",
      "Epoch  6, CIFAR-10 Batch 4:  Loss: 0.2210 Validation Accuracy: 0.698404\n",
      "Epoch  6, CIFAR-10 Batch 5:  Loss: 0.1796 Validation Accuracy: 0.677667\n",
      "Epoch  7, CIFAR-10 Batch 1:  Loss: 0.2684 Validation Accuracy: 0.694494\n",
      "Epoch  7, CIFAR-10 Batch 2:  Loss: 0.1461 Validation Accuracy: 0.683824\n",
      "Epoch  7, CIFAR-10 Batch 3:  Loss: 0.1734 Validation Accuracy: 0.693396\n",
      "Epoch  7, CIFAR-10 Batch 4:  Loss: 0.1921 Validation Accuracy: 0.695424\n",
      "Epoch  7, CIFAR-10 Batch 5:  Loss: 0.1563 Validation Accuracy: 0.702667\n",
      "Epoch  8, CIFAR-10 Batch 1:  Loss: 0.2273 Validation Accuracy: 0.700314\n",
      "Epoch  8, CIFAR-10 Batch 2:  Loss: 0.0966 Validation Accuracy: 0.690973\n",
      "Epoch  8, CIFAR-10 Batch 3:  Loss: 0.1216 Validation Accuracy: 0.708271\n",
      "Epoch  8, CIFAR-10 Batch 4:  Loss: 0.1498 Validation Accuracy: 0.705165\n",
      "Epoch  8, CIFAR-10 Batch 5:  Loss: 0.1124 Validation Accuracy: 0.706886\n",
      "Epoch  9, CIFAR-10 Batch 1:  Loss: 0.1923 Validation Accuracy: 0.699671\n",
      "Epoch  9, CIFAR-10 Batch 2:  Loss: 0.0816 Validation Accuracy: 0.710039\n",
      "Epoch  9, CIFAR-10 Batch 3:  Loss: 0.0742 Validation Accuracy: 0.707129\n",
      "Epoch  9, CIFAR-10 Batch 4:  Loss: 0.1272 Validation Accuracy: 0.709443\n",
      "Epoch  9, CIFAR-10 Batch 5:  Loss: 0.0799 Validation Accuracy: 0.702196\n",
      "Epoch 10, CIFAR-10 Batch 1:  Loss: 0.1215 Validation Accuracy: 0.710839\n",
      "Epoch 10, CIFAR-10 Batch 2:  Loss: 0.0476 Validation Accuracy: 0.698145\n",
      "Epoch 10, CIFAR-10 Batch 3:  Loss: 0.0665 Validation Accuracy: 0.711694\n",
      "Epoch 10, CIFAR-10 Batch 4:  Loss: 0.0901 Validation Accuracy: 0.720635\n",
      "Epoch 10, CIFAR-10 Batch 5:  Loss: 0.0494 Validation Accuracy: 0.717000\n",
      "Epoch 11, CIFAR-10 Batch 1:  Loss: 0.0838 Validation Accuracy: 0.712165\n",
      "Epoch 11, CIFAR-10 Batch 2:  Loss: 0.0292 Validation Accuracy: 0.706404\n",
      "Epoch 11, CIFAR-10 Batch 3:  Loss: 0.0503 Validation Accuracy: 0.708498\n",
      "Epoch 11, CIFAR-10 Batch 4:  Loss: 0.0662 Validation Accuracy: 0.701855\n",
      "Epoch 11, CIFAR-10 Batch 5:  Loss: 0.0322 Validation Accuracy: 0.720067\n",
      "Epoch 12, CIFAR-10 Batch 1:  Loss: 0.0559 Validation Accuracy: 0.727682\n",
      "Epoch 12, CIFAR-10 Batch 2:  Loss: 0.0334 Validation Accuracy: 0.704306\n",
      "Epoch 12, CIFAR-10 Batch 3:  Loss: 0.0437 Validation Accuracy: 0.719337\n",
      "Epoch 12, CIFAR-10 Batch 4:  Loss: 0.0479 Validation Accuracy: 0.717741\n",
      "Epoch 12, CIFAR-10 Batch 5:  Loss: 0.0266 Validation Accuracy: 0.712165\n",
      "Epoch 13, CIFAR-10 Batch 1:  Loss: 0.0533 Validation Accuracy: 0.730204\n",
      "Epoch 13, CIFAR-10 Batch 2:  Loss: 0.0258 Validation Accuracy: 0.715102\n",
      "Epoch 13, CIFAR-10 Batch 3:  Loss: 0.0278 Validation Accuracy: 0.722145\n",
      "Epoch 13, CIFAR-10 Batch 4:  Loss: 0.0331 Validation Accuracy: 0.719110\n",
      "Epoch 13, CIFAR-10 Batch 5:  Loss: 0.0163 Validation Accuracy: 0.726196\n",
      "Epoch 14, CIFAR-10 Batch 1:  Loss: 0.0490 Validation Accuracy: 0.729204\n",
      "Epoch 14, CIFAR-10 Batch 2:  Loss: 0.0154 Validation Accuracy: 0.704890\n",
      "Epoch 14, CIFAR-10 Batch 3:  Loss: 0.0389 Validation Accuracy: 0.726980\n",
      "Epoch 14, CIFAR-10 Batch 4:  Loss: 0.0397 Validation Accuracy: 0.731361\n",
      "Epoch 14, CIFAR-10 Batch 5:  Loss: 0.0123 Validation Accuracy: 0.731443\n",
      "Epoch 15, CIFAR-10 Batch 1:  Loss: 0.0358 Validation Accuracy: 0.738518\n",
      "Epoch 15, CIFAR-10 Batch 2:  Loss: 0.0210 Validation Accuracy: 0.722675\n",
      "Epoch 15, CIFAR-10 Batch 3:  Loss: 0.0173 Validation Accuracy: 0.731616\n",
      "Epoch 15, CIFAR-10 Batch 4:  Loss: 0.0331 Validation Accuracy: 0.709741\n",
      "Epoch 15, CIFAR-10 Batch 5:  Loss: 0.0113 Validation Accuracy: 0.730718\n",
      "Epoch 16, CIFAR-10 Batch 1:  Loss: 0.0215 Validation Accuracy: 0.741984\n",
      "Epoch 16, CIFAR-10 Batch 2:  Loss: 0.0144 Validation Accuracy: 0.731388\n",
      "Epoch 16, CIFAR-10 Batch 3:  Loss: 0.0184 Validation Accuracy: 0.731659\n",
      "Epoch 16, CIFAR-10 Batch 4:  Loss: 0.0175 Validation Accuracy: 0.722718\n",
      "Epoch 16, CIFAR-10 Batch 5:  Loss: 0.0119 Validation Accuracy: 0.719137\n",
      "Epoch 17, CIFAR-10 Batch 1:  Loss: 0.0336 Validation Accuracy: 0.730318\n",
      "Epoch 17, CIFAR-10 Batch 2:  Loss: 0.0160 Validation Accuracy: 0.729408\n",
      "Epoch 17, CIFAR-10 Batch 3:  Loss: 0.0135 Validation Accuracy: 0.732600\n",
      "Epoch 17, CIFAR-10 Batch 4:  Loss: 0.0150 Validation Accuracy: 0.719353\n",
      "Epoch 17, CIFAR-10 Batch 5:  Loss: 0.0155 Validation Accuracy: 0.733027\n",
      "Epoch 18, CIFAR-10 Batch 1:  Loss: 0.0223 Validation Accuracy: 0.736506\n",
      "Epoch 18, CIFAR-10 Batch 2:  Loss: 0.0080 Validation Accuracy: 0.713859\n",
      "Epoch 18, CIFAR-10 Batch 3:  Loss: 0.0106 Validation Accuracy: 0.729176\n",
      "Epoch 18, CIFAR-10 Batch 4:  Loss: 0.0118 Validation Accuracy: 0.729820\n",
      "Epoch 18, CIFAR-10 Batch 5:  Loss: 0.0136 Validation Accuracy: 0.723871\n",
      "Epoch 19, CIFAR-10 Batch 1:  Loss: 0.0123 Validation Accuracy: 0.732757\n",
      "Epoch 19, CIFAR-10 Batch 2:  Loss: 0.0118 Validation Accuracy: 0.733212\n",
      "Epoch 19, CIFAR-10 Batch 3:  Loss: 0.0044 Validation Accuracy: 0.730149\n",
      "Epoch 19, CIFAR-10 Batch 4:  Loss: 0.0109 Validation Accuracy: 0.732773\n",
      "Epoch 19, CIFAR-10 Batch 5:  Loss: 0.0061 Validation Accuracy: 0.736451\n",
      "Epoch 20, CIFAR-10 Batch 1:  Loss: 0.0144 Validation Accuracy: 0.733898\n",
      "Epoch 20, CIFAR-10 Batch 2:  Loss: 0.0097 Validation Accuracy: 0.723118\n",
      "Epoch 20, CIFAR-10 Batch 3:  Loss: 0.0026 Validation Accuracy: 0.738047\n",
      "Epoch 20, CIFAR-10 Batch 4:  Loss: 0.0172 Validation Accuracy: 0.733898\n",
      "Epoch 20, CIFAR-10 Batch 5:  Loss: 0.0058 Validation Accuracy: 0.737976\n",
      "Epoch 21, CIFAR-10 Batch 1:  Loss: 0.0090 Validation Accuracy: 0.730847\n",
      "Epoch 21, CIFAR-10 Batch 2:  Loss: 0.0087 Validation Accuracy: 0.730890\n",
      "Epoch 21, CIFAR-10 Batch 3:  Loss: 0.0023 Validation Accuracy: 0.736392\n",
      "Epoch 21, CIFAR-10 Batch 4:  Loss: 0.0090 Validation Accuracy: 0.731875\n",
      "Epoch 21, CIFAR-10 Batch 5:  Loss: 0.0041 Validation Accuracy: 0.734310\n",
      "Epoch 22, CIFAR-10 Batch 1:  Loss: 0.0083 Validation Accuracy: 0.730333\n",
      "Epoch 22, CIFAR-10 Batch 2:  Loss: 0.0026 Validation Accuracy: 0.736608\n",
      "Epoch 22, CIFAR-10 Batch 3:  Loss: 0.0019 Validation Accuracy: 0.738561\n",
      "Epoch 22, CIFAR-10 Batch 4:  Loss: 0.0101 Validation Accuracy: 0.731216\n",
      "Epoch 22, CIFAR-10 Batch 5:  Loss: 0.0040 Validation Accuracy: 0.731816\n",
      "Epoch 23, CIFAR-10 Batch 1:  Loss: 0.0034 Validation Accuracy: 0.727765\n",
      "Epoch 23, CIFAR-10 Batch 2:  Loss: 0.0026 Validation Accuracy: 0.741800\n",
      "Epoch 23, CIFAR-10 Batch 3:  Loss: 0.0026 Validation Accuracy: 0.747847\n",
      "Epoch 23, CIFAR-10 Batch 4:  Loss: 0.0019 Validation Accuracy: 0.736494\n",
      "Epoch 23, CIFAR-10 Batch 5:  Loss: 0.0024 Validation Accuracy: 0.734553\n",
      "Epoch 24, CIFAR-10 Batch 1:  Loss: 0.0057 Validation Accuracy: 0.721831\n",
      "Epoch 24, CIFAR-10 Batch 2:  Loss: 0.0014 Validation Accuracy: 0.732957\n",
      "Epoch 24, CIFAR-10 Batch 3:  Loss: 0.0021 Validation Accuracy: 0.733557\n",
      "Epoch 24, CIFAR-10 Batch 4:  Loss: 0.0072 Validation Accuracy: 0.730690\n",
      "Epoch 24, CIFAR-10 Batch 5:  Loss: 0.0026 Validation Accuracy: 0.740259\n",
      "Epoch 25, CIFAR-10 Batch 1:  Loss: 0.0039 Validation Accuracy: 0.715016\n",
      "Epoch 25, CIFAR-10 Batch 2:  Loss: 0.0004 Validation Accuracy: 0.741757\n",
      "Epoch 25, CIFAR-10 Batch 3:  Loss: 0.0009 Validation Accuracy: 0.739588\n",
      "Epoch 25, CIFAR-10 Batch 4:  Loss: 0.0033 Validation Accuracy: 0.730588\n",
      "Epoch 25, CIFAR-10 Batch 5:  Loss: 0.0021 Validation Accuracy: 0.731573\n",
      "Epoch 26, CIFAR-10 Batch 1:  Loss: 0.0025 Validation Accuracy: 0.732643\n",
      "Epoch 26, CIFAR-10 Batch 2:  Loss: 0.0012 Validation Accuracy: 0.734812\n",
      "Epoch 26, CIFAR-10 Batch 3:  Loss: 0.0028 Validation Accuracy: 0.743639\n",
      "Epoch 26, CIFAR-10 Batch 4:  Loss: 0.0040 Validation Accuracy: 0.731373\n",
      "Epoch 26, CIFAR-10 Batch 5:  Loss: 0.0026 Validation Accuracy: 0.733639\n",
      "Epoch 27, CIFAR-10 Batch 1:  Loss: 0.0019 Validation Accuracy: 0.734769\n",
      "Epoch 27, CIFAR-10 Batch 2:  Loss: 0.0030 Validation Accuracy: 0.732502\n",
      "Epoch 27, CIFAR-10 Batch 3:  Loss: 0.0018 Validation Accuracy: 0.740573\n",
      "Epoch 27, CIFAR-10 Batch 4:  Loss: 0.0039 Validation Accuracy: 0.737961\n",
      "Epoch 27, CIFAR-10 Batch 5:  Loss: 0.0027 Validation Accuracy: 0.742326\n",
      "Epoch 28, CIFAR-10 Batch 1:  Loss: 0.0029 Validation Accuracy: 0.737192\n",
      "Epoch 28, CIFAR-10 Batch 2:  Loss: 0.0013 Validation Accuracy: 0.736737\n",
      "Epoch 28, CIFAR-10 Batch 3:  Loss: 0.0014 Validation Accuracy: 0.738776\n",
      "Epoch 28, CIFAR-10 Batch 4:  Loss: 0.0058 Validation Accuracy: 0.735482\n",
      "Epoch 28, CIFAR-10 Batch 5:  Loss: 0.0023 Validation Accuracy: 0.730106\n",
      "Epoch 29, CIFAR-10 Batch 1:  Loss: 0.0017 Validation Accuracy: 0.733255\n",
      "Epoch 29, CIFAR-10 Batch 2:  Loss: 0.0016 Validation Accuracy: 0.742239\n",
      "Epoch 29, CIFAR-10 Batch 3:  Loss: 0.0007 Validation Accuracy: 0.735678\n",
      "Epoch 29, CIFAR-10 Batch 4:  Loss: 0.0029 Validation Accuracy: 0.740259\n",
      "Epoch 29, CIFAR-10 Batch 5:  Loss: 0.0036 Validation Accuracy: 0.741341\n",
      "Epoch 30, CIFAR-10 Batch 1:  Loss: 0.0014 Validation Accuracy: 0.742855\n",
      "Epoch 30, CIFAR-10 Batch 2:  Loss: 0.0005 Validation Accuracy: 0.740443\n",
      "Epoch 30, CIFAR-10 Batch 3:  Loss: 0.0012 Validation Accuracy: 0.738047\n",
      "Epoch 30, CIFAR-10 Batch 4:  Loss: 0.0018 Validation Accuracy: 0.751110\n",
      "Epoch 30, CIFAR-10 Batch 5:  Loss: 0.0056 Validation Accuracy: 0.737008\n",
      "Epoch 31, CIFAR-10 Batch 1:  Loss: 0.0012 Validation Accuracy: 0.741914\n",
      "Epoch 31, CIFAR-10 Batch 2:  Loss: 0.0072 Validation Accuracy: 0.739788\n",
      "Epoch 31, CIFAR-10 Batch 3:  Loss: 0.0005 Validation Accuracy: 0.754604\n",
      "Epoch 31, CIFAR-10 Batch 4:  Loss: 0.0013 Validation Accuracy: 0.744651\n",
      "Epoch 31, CIFAR-10 Batch 5:  Loss: 0.0014 Validation Accuracy: 0.746820\n",
      "Epoch 32, CIFAR-10 Batch 1:  Loss: 0.0030 Validation Accuracy: 0.733102\n",
      "Epoch 32, CIFAR-10 Batch 2:  Loss: 0.0010 Validation Accuracy: 0.739561\n",
      "Epoch 32, CIFAR-10 Batch 3:  Loss: 0.0017 Validation Accuracy: 0.754549\n",
      "Epoch 32, CIFAR-10 Batch 4:  Loss: 0.0011 Validation Accuracy: 0.743922\n",
      "Epoch 32, CIFAR-10 Batch 5:  Loss: 0.0024 Validation Accuracy: 0.741898\n",
      "Epoch 33, CIFAR-10 Batch 1:  Loss: 0.0010 Validation Accuracy: 0.743894\n",
      "Epoch 33, CIFAR-10 Batch 2:  Loss: 0.0006 Validation Accuracy: 0.746220\n",
      "Epoch 33, CIFAR-10 Batch 3:  Loss: 0.0003 Validation Accuracy: 0.747631\n",
      "Epoch 33, CIFAR-10 Batch 4:  Loss: 0.0019 Validation Accuracy: 0.741941\n",
      "Epoch 33, CIFAR-10 Batch 5:  Loss: 0.0007 Validation Accuracy: 0.745137\n",
      "Epoch 34, CIFAR-10 Batch 1:  Loss: 0.0012 Validation Accuracy: 0.743926\n",
      "Epoch 34, CIFAR-10 Batch 2:  Loss: 0.0002 Validation Accuracy: 0.744980\n",
      "Epoch 34, CIFAR-10 Batch 3:  Loss: 0.0005 Validation Accuracy: 0.739376\n",
      "Epoch 34, CIFAR-10 Batch 4:  Loss: 0.0004 Validation Accuracy: 0.745992\n",
      "Epoch 34, CIFAR-10 Batch 5:  Loss: 0.0005 Validation Accuracy: 0.748004\n",
      "Epoch 35, CIFAR-10 Batch 1:  Loss: 0.0014 Validation Accuracy: 0.744298\n",
      "Epoch 35, CIFAR-10 Batch 2:  Loss: 0.0004 Validation Accuracy: 0.742341\n",
      "Epoch 35, CIFAR-10 Batch 3:  Loss: 0.0003 Validation Accuracy: 0.739663\n",
      "Epoch 35, CIFAR-10 Batch 4:  Loss: 0.0005 Validation Accuracy: 0.745651\n",
      "Epoch 35, CIFAR-10 Batch 5:  Loss: 0.0006 Validation Accuracy: 0.745337\n",
      "Epoch 36, CIFAR-10 Batch 1:  Loss: 0.0010 Validation Accuracy: 0.744196\n",
      "Epoch 36, CIFAR-10 Batch 2:  Loss: 0.0007 Validation Accuracy: 0.744667\n",
      "Epoch 36, CIFAR-10 Batch 3:  Loss: 0.0003 Validation Accuracy: 0.743067\n",
      "Epoch 36, CIFAR-10 Batch 4:  Loss: 0.0004 Validation Accuracy: 0.746478\n",
      "Epoch 36, CIFAR-10 Batch 5:  Loss: 0.0003 Validation Accuracy: 0.748529\n",
      "Epoch 37, CIFAR-10 Batch 1:  Loss: 0.0005 Validation Accuracy: 0.746804\n",
      "Epoch 37, CIFAR-10 Batch 2:  Loss: 0.0002 Validation Accuracy: 0.748788\n",
      "Epoch 37, CIFAR-10 Batch 3:  Loss: 0.0007 Validation Accuracy: 0.746161\n",
      "Epoch 37, CIFAR-10 Batch 4:  Loss: 0.0009 Validation Accuracy: 0.735110\n",
      "Epoch 37, CIFAR-10 Batch 5:  Loss: 0.0008 Validation Accuracy: 0.745094\n",
      "Epoch 38, CIFAR-10 Batch 1:  Loss: 0.0005 Validation Accuracy: 0.739075\n",
      "Epoch 38, CIFAR-10 Batch 2:  Loss: 0.0003 Validation Accuracy: 0.743239\n",
      "Epoch 38, CIFAR-10 Batch 3:  Loss: 0.0005 Validation Accuracy: 0.736608\n",
      "Epoch 38, CIFAR-10 Batch 4:  Loss: 0.0005 Validation Accuracy: 0.743926\n",
      "Epoch 38, CIFAR-10 Batch 5:  Loss: 0.0007 Validation Accuracy: 0.735455\n",
      "Epoch 39, CIFAR-10 Batch 1:  Loss: 0.0014 Validation Accuracy: 0.739047\n",
      "Epoch 39, CIFAR-10 Batch 2:  Loss: 0.0003 Validation Accuracy: 0.742498\n",
      "Epoch 39, CIFAR-10 Batch 3:  Loss: 0.0005 Validation Accuracy: 0.738035\n",
      "Epoch 39, CIFAR-10 Batch 4:  Loss: 0.0020 Validation Accuracy: 0.728451\n",
      "Epoch 39, CIFAR-10 Batch 5:  Loss: 0.0008 Validation Accuracy: 0.749686\n",
      "Epoch 40, CIFAR-10 Batch 1:  Loss: 0.0003 Validation Accuracy: 0.740118\n",
      "Epoch 40, CIFAR-10 Batch 2:  Loss: 0.0002 Validation Accuracy: 0.746835\n",
      "Epoch 40, CIFAR-10 Batch 3:  Loss: 0.0005 Validation Accuracy: 0.742439\n",
      "Epoch 40, CIFAR-10 Batch 4:  Loss: 0.0010 Validation Accuracy: 0.741314\n",
      "Epoch 40, CIFAR-10 Batch 5:  Loss: 0.0006 Validation Accuracy: 0.742926\n",
      "Epoch 41, CIFAR-10 Batch 1:  Loss: 0.0003 Validation Accuracy: 0.735039\n",
      "Epoch 41, CIFAR-10 Batch 2:  Loss: 0.0002 Validation Accuracy: 0.739263\n",
      "Epoch 41, CIFAR-10 Batch 3:  Loss: 0.0004 Validation Accuracy: 0.725012\n",
      "Epoch 41, CIFAR-10 Batch 4:  Loss: 0.0004 Validation Accuracy: 0.743867\n",
      "Epoch 41, CIFAR-10 Batch 5:  Loss: 0.0025 Validation Accuracy: 0.746961\n",
      "Epoch 42, CIFAR-10 Batch 1:  Loss: 0.0011 Validation Accuracy: 0.746776\n",
      "Epoch 42, CIFAR-10 Batch 2:  Loss: 0.0002 Validation Accuracy: 0.746647\n",
      "Epoch 42, CIFAR-10 Batch 3:  Loss: 0.0002 Validation Accuracy: 0.741400\n",
      "Epoch 42, CIFAR-10 Batch 4:  Loss: 0.0003 Validation Accuracy: 0.730475\n",
      "Epoch 42, CIFAR-10 Batch 5:  Loss: 0.0003 Validation Accuracy: 0.748831\n",
      "Epoch 43, CIFAR-10 Batch 1:  Loss: 0.0005 Validation Accuracy: 0.738875\n",
      "Epoch 43, CIFAR-10 Batch 2:  Loss: 0.0003 Validation Accuracy: 0.733984\n",
      "Epoch 43, CIFAR-10 Batch 3:  Loss: 0.0001 Validation Accuracy: 0.743980\n",
      "Epoch 43, CIFAR-10 Batch 4:  Loss: 0.0004 Validation Accuracy: 0.737961\n",
      "Epoch 43, CIFAR-10 Batch 5:  Loss: 0.0002 Validation Accuracy: 0.747988\n",
      "Epoch 44, CIFAR-10 Batch 1:  Loss: 0.0002 Validation Accuracy: 0.745122\n",
      "Epoch 44, CIFAR-10 Batch 2:  Loss: 0.0001 Validation Accuracy: 0.743326\n",
      "Epoch 44, CIFAR-10 Batch 3:  Loss: 0.0003 Validation Accuracy: 0.734796\n",
      "Epoch 44, CIFAR-10 Batch 4:  Loss: 0.0003 Validation Accuracy: 0.735678\n",
      "Epoch 44, CIFAR-10 Batch 5:  Loss: 0.0002 Validation Accuracy: 0.745663\n",
      "Epoch 45, CIFAR-10 Batch 1:  Loss: 0.0002 Validation Accuracy: 0.737506\n",
      "Epoch 45, CIFAR-10 Batch 2:  Loss: 0.0001 Validation Accuracy: 0.747247\n",
      "Epoch 45, CIFAR-10 Batch 3:  Loss: 0.0002 Validation Accuracy: 0.744067\n",
      "Epoch 45, CIFAR-10 Batch 4:  Loss: 0.0002 Validation Accuracy: 0.743639\n",
      "Epoch 45, CIFAR-10 Batch 5:  Loss: 0.0007 Validation Accuracy: 0.735580\n",
      "Epoch 46, CIFAR-10 Batch 1:  Loss: 0.0004 Validation Accuracy: 0.730247\n",
      "Epoch 46, CIFAR-10 Batch 2:  Loss: 0.0001 Validation Accuracy: 0.743596\n",
      "Epoch 46, CIFAR-10 Batch 3:  Loss: 0.0006 Validation Accuracy: 0.746690\n",
      "Epoch 46, CIFAR-10 Batch 4:  Loss: 0.0003 Validation Accuracy: 0.736180\n",
      "Epoch 46, CIFAR-10 Batch 5:  Loss: 0.0014 Validation Accuracy: 0.748929\n",
      "Epoch 47, CIFAR-10 Batch 1:  Loss: 0.0009 Validation Accuracy: 0.723216\n",
      "Epoch 47, CIFAR-10 Batch 2:  Loss: 0.0001 Validation Accuracy: 0.744922\n",
      "Epoch 47, CIFAR-10 Batch 3:  Loss: 0.0002 Validation Accuracy: 0.745463\n",
      "Epoch 47, CIFAR-10 Batch 4:  Loss: 0.0018 Validation Accuracy: 0.731659\n",
      "Epoch 47, CIFAR-10 Batch 5:  Loss: 0.0008 Validation Accuracy: 0.747004\n",
      "Epoch 48, CIFAR-10 Batch 1:  Loss: 0.0002 Validation Accuracy: 0.745906\n",
      "Epoch 48, CIFAR-10 Batch 2:  Loss: 0.0001 Validation Accuracy: 0.747416\n",
      "Epoch 48, CIFAR-10 Batch 3:  Loss: 0.0003 Validation Accuracy: 0.747047\n",
      "Epoch 48, CIFAR-10 Batch 4:  Loss: 0.0002 Validation Accuracy: 0.747631\n",
      "Epoch 48, CIFAR-10 Batch 5:  Loss: 0.0011 Validation Accuracy: 0.735667\n",
      "Epoch 49, CIFAR-10 Batch 1:  Loss: 0.0004 Validation Accuracy: 0.743439\n",
      "Epoch 49, CIFAR-10 Batch 2:  Loss: 0.0000 Validation Accuracy: 0.754235\n",
      "Epoch 49, CIFAR-10 Batch 3:  Loss: 0.0001 Validation Accuracy: 0.739588\n",
      "Epoch 49, CIFAR-10 Batch 4:  Loss: 0.0003 Validation Accuracy: 0.721376\n",
      "Epoch 49, CIFAR-10 Batch 5:  Loss: 0.0008 Validation Accuracy: 0.748529\n",
      "Epoch 50, CIFAR-10 Batch 1:  Loss: 0.0007 Validation Accuracy: 0.736208\n",
      "Epoch 50, CIFAR-10 Batch 2:  Loss: 0.0000 Validation Accuracy: 0.753478\n",
      "Epoch 50, CIFAR-10 Batch 3:  Loss: 0.0001 Validation Accuracy: 0.747075\n",
      "Epoch 50, CIFAR-10 Batch 4:  Loss: 0.0001 Validation Accuracy: 0.738620\n",
      "Epoch 50, CIFAR-10 Batch 5:  Loss: 0.0005 Validation Accuracy: 0.738020\n",
      "Epoch 51, CIFAR-10 Batch 1:  Loss: 0.0002 Validation Accuracy: 0.744337\n",
      "Epoch 51, CIFAR-10 Batch 2:  Loss: 0.0000 Validation Accuracy: 0.750212\n",
      "Epoch 51, CIFAR-10 Batch 3:  Loss: 0.0004 Validation Accuracy: 0.732027\n",
      "Epoch 51, CIFAR-10 Batch 4:  Loss: 0.0003 Validation Accuracy: 0.741173\n",
      "Epoch 51, CIFAR-10 Batch 5:  Loss: 0.0002 Validation Accuracy: 0.746490\n",
      "Epoch 52, CIFAR-10 Batch 1:  Loss: 0.0003 Validation Accuracy: 0.745149\n",
      "Epoch 52, CIFAR-10 Batch 2:  Loss: 0.0000 Validation Accuracy: 0.750882\n",
      "Epoch 52, CIFAR-10 Batch 3:  Loss: 0.0006 Validation Accuracy: 0.744494\n",
      "Epoch 52, CIFAR-10 Batch 4:  Loss: 0.0002 Validation Accuracy: 0.742812\n",
      "Epoch 52, CIFAR-10 Batch 5:  Loss: 0.0003 Validation Accuracy: 0.735922\n",
      "Epoch 53, CIFAR-10 Batch 1:  Loss: 0.0002 Validation Accuracy: 0.746447\n",
      "Epoch 53, CIFAR-10 Batch 2:  Loss: 0.0000 Validation Accuracy: 0.751953\n",
      "Epoch 53, CIFAR-10 Batch 3:  Loss: 0.0001 Validation Accuracy: 0.744153\n",
      "Epoch 53, CIFAR-10 Batch 4:  Loss: 0.0001 Validation Accuracy: 0.741188\n",
      "Epoch 53, CIFAR-10 Batch 5:  Loss: 0.0034 Validation Accuracy: 0.744337\n",
      "Epoch 54, CIFAR-10 Batch 1:  Loss: 0.0003 Validation Accuracy: 0.738875\n",
      "Epoch 54, CIFAR-10 Batch 2:  Loss: 0.0002 Validation Accuracy: 0.734239\n",
      "Epoch 54, CIFAR-10 Batch 3:  Loss: 0.0001 Validation Accuracy: 0.743553\n",
      "Epoch 54, CIFAR-10 Batch 4:  Loss: 0.0003 Validation Accuracy: 0.739431\n",
      "Epoch 54, CIFAR-10 Batch 5:  Loss: 0.0006 Validation Accuracy: 0.731404\n",
      "Epoch 55, CIFAR-10 Batch 1:  Loss: 0.0006 Validation Accuracy: 0.740984\n",
      "Epoch 55, CIFAR-10 Batch 2:  Loss: 0.0000 Validation Accuracy: 0.743353\n",
      "Epoch 55, CIFAR-10 Batch 3:  Loss: 0.0001 Validation Accuracy: 0.740443\n",
      "Epoch 55, CIFAR-10 Batch 4:  Loss: 0.0003 Validation Accuracy: 0.747263\n",
      "Epoch 55, CIFAR-10 Batch 5:  Loss: 0.0002 Validation Accuracy: 0.737992\n",
      "Epoch 56, CIFAR-10 Batch 1:  Loss: 0.0040 Validation Accuracy: 0.740373\n",
      "Epoch 56, CIFAR-10 Batch 2:  Loss: 0.0000 Validation Accuracy: 0.739345\n",
      "Epoch 56, CIFAR-10 Batch 3:  Loss: 0.0002 Validation Accuracy: 0.740686\n",
      "Epoch 56, CIFAR-10 Batch 4:  Loss: 0.0001 Validation Accuracy: 0.742682\n",
      "Epoch 56, CIFAR-10 Batch 5:  Loss: 0.0002 Validation Accuracy: 0.748529\n",
      "Epoch 57, CIFAR-10 Batch 1:  Loss: 0.0003 Validation Accuracy: 0.738718\n",
      "Epoch 57, CIFAR-10 Batch 2:  Loss: 0.0000 Validation Accuracy: 0.747275\n",
      "Epoch 57, CIFAR-10 Batch 3:  Loss: 0.0002 Validation Accuracy: 0.725953\n",
      "Epoch 57, CIFAR-10 Batch 4:  Loss: 0.0004 Validation Accuracy: 0.743910\n",
      "Epoch 57, CIFAR-10 Batch 5:  Loss: 0.0003 Validation Accuracy: 0.746576\n",
      "Epoch 58, CIFAR-10 Batch 1:  Loss: 0.0006 Validation Accuracy: 0.742726\n",
      "Epoch 58, CIFAR-10 Batch 2:  Loss: 0.0001 Validation Accuracy: 0.747545\n",
      "Epoch 58, CIFAR-10 Batch 3:  Loss: 0.0004 Validation Accuracy: 0.747047\n",
      "Epoch 58, CIFAR-10 Batch 4:  Loss: 0.0003 Validation Accuracy: 0.747059\n",
      "Epoch 58, CIFAR-10 Batch 5:  Loss: 0.0001 Validation Accuracy: 0.750369\n",
      "Epoch 59, CIFAR-10 Batch 1:  Loss: 0.0002 Validation Accuracy: 0.742012\n",
      "Epoch 59, CIFAR-10 Batch 2:  Loss: 0.0000 Validation Accuracy: 0.752678\n",
      "Epoch 59, CIFAR-10 Batch 3:  Loss: 0.0002 Validation Accuracy: 0.748102\n",
      "Epoch 59, CIFAR-10 Batch 4:  Loss: 0.0003 Validation Accuracy: 0.744267\n",
      "Epoch 59, CIFAR-10 Batch 5:  Loss: 0.0001 Validation Accuracy: 0.739102\n",
      "Epoch 60, CIFAR-10 Batch 1:  Loss: 0.0003 Validation Accuracy: 0.748400\n",
      "Epoch 60, CIFAR-10 Batch 2:  Loss: 0.0000 Validation Accuracy: 0.746918\n",
      "Epoch 60, CIFAR-10 Batch 3:  Loss: 0.0000 Validation Accuracy: 0.739286\n",
      "Epoch 60, CIFAR-10 Batch 4:  Loss: 0.0004 Validation Accuracy: 0.741686\n",
      "Epoch 60, CIFAR-10 Batch 5:  Loss: 0.0001 Validation Accuracy: 0.744922\n",
      "Epoch 61, CIFAR-10 Batch 1:  Loss: 0.0006 Validation Accuracy: 0.736678\n",
      "Epoch 61, CIFAR-10 Batch 2:  Loss: 0.0000 Validation Accuracy: 0.752365\n",
      "Epoch 61, CIFAR-10 Batch 3:  Loss: 0.0000 Validation Accuracy: 0.739216\n",
      "Epoch 61, CIFAR-10 Batch 4:  Loss: 0.0001 Validation Accuracy: 0.742682\n",
      "Epoch 61, CIFAR-10 Batch 5:  Loss: 0.0001 Validation Accuracy: 0.747031\n",
      "Epoch 62, CIFAR-10 Batch 1:  Loss: 0.0002 Validation Accuracy: 0.745133\n",
      "Epoch 62, CIFAR-10 Batch 2:  Loss: 0.0000 Validation Accuracy: 0.746047\n",
      "Epoch 62, CIFAR-10 Batch 3:  Loss: 0.0001 Validation Accuracy: 0.734467\n",
      "Epoch 62, CIFAR-10 Batch 4:  Loss: 0.0007 Validation Accuracy: 0.738220\n",
      "Epoch 62, CIFAR-10 Batch 5:  Loss: 0.0003 Validation Accuracy: 0.732702\n",
      "Epoch 63, CIFAR-10 Batch 1:  Loss: 0.0004 Validation Accuracy: 0.727082\n",
      "Epoch 63, CIFAR-10 Batch 2:  Loss: 0.0000 Validation Accuracy: 0.740800\n",
      "Epoch 63, CIFAR-10 Batch 3:  Loss: 0.0000 Validation Accuracy: 0.745392\n",
      "Epoch 63, CIFAR-10 Batch 4:  Loss: 0.0001 Validation Accuracy: 0.733714\n",
      "Epoch 63, CIFAR-10 Batch 5:  Loss: 0.0002 Validation Accuracy: 0.743635\n",
      "Epoch 64, CIFAR-10 Batch 1:  Loss: 0.0002 Validation Accuracy: 0.739129\n",
      "Epoch 64, CIFAR-10 Batch 2:  Loss: 0.0001 Validation Accuracy: 0.748443\n",
      "Epoch 64, CIFAR-10 Batch 3:  Loss: 0.0001 Validation Accuracy: 0.743596\n",
      "Epoch 64, CIFAR-10 Batch 4:  Loss: 0.0001 Validation Accuracy: 0.751737\n",
      "Epoch 64, CIFAR-10 Batch 5:  Loss: 0.0001 Validation Accuracy: 0.742839\n",
      "Epoch 65, CIFAR-10 Batch 1:  Loss: 0.0001 Validation Accuracy: 0.744922\n",
      "Epoch 65, CIFAR-10 Batch 2:  Loss: 0.0001 Validation Accuracy: 0.748557\n",
      "Epoch 65, CIFAR-10 Batch 3:  Loss: 0.0000 Validation Accuracy: 0.742980\n",
      "Epoch 65, CIFAR-10 Batch 4:  Loss: 0.0001 Validation Accuracy: 0.753078\n",
      "Epoch 65, CIFAR-10 Batch 5:  Loss: 0.0001 Validation Accuracy: 0.739373\n",
      "Epoch 66, CIFAR-10 Batch 1:  Loss: 0.0001 Validation Accuracy: 0.744608\n",
      "Epoch 66, CIFAR-10 Batch 2:  Loss: 0.0000 Validation Accuracy: 0.747502\n",
      "Epoch 66, CIFAR-10 Batch 3:  Loss: 0.0000 Validation Accuracy: 0.745906\n",
      "Epoch 66, CIFAR-10 Batch 4:  Loss: 0.0001 Validation Accuracy: 0.742910\n",
      "Epoch 66, CIFAR-10 Batch 5:  Loss: 0.0002 Validation Accuracy: 0.735196\n",
      "Epoch 67, CIFAR-10 Batch 1:  Loss: 0.0001 Validation Accuracy: 0.740643\n",
      "Epoch 67, CIFAR-10 Batch 2:  Loss: 0.0002 Validation Accuracy: 0.744122\n",
      "Epoch 67, CIFAR-10 Batch 3:  Loss: 0.0001 Validation Accuracy: 0.747416\n",
      "Epoch 67, CIFAR-10 Batch 4:  Loss: 0.0004 Validation Accuracy: 0.743722\n",
      "Epoch 67, CIFAR-10 Batch 5:  Loss: 0.0001 Validation Accuracy: 0.738988\n",
      "Epoch 68, CIFAR-10 Batch 1:  Loss: 0.0001 Validation Accuracy: 0.743824\n",
      "Epoch 68, CIFAR-10 Batch 2:  Loss: 0.0002 Validation Accuracy: 0.749984\n",
      "Epoch 68, CIFAR-10 Batch 3:  Loss: 0.0001 Validation Accuracy: 0.735137\n",
      "Epoch 68, CIFAR-10 Batch 4:  Loss: 0.0002 Validation Accuracy: 0.753392\n",
      "Epoch 68, CIFAR-10 Batch 5:  Loss: 0.0002 Validation Accuracy: 0.734510\n",
      "Epoch 69, CIFAR-10 Batch 1:  Loss: 0.0001 Validation Accuracy: 0.746604\n",
      "Epoch 69, CIFAR-10 Batch 2:  Loss: 0.0000 Validation Accuracy: 0.747616\n",
      "Epoch 69, CIFAR-10 Batch 3:  Loss: 0.0000 Validation Accuracy: 0.741757\n",
      "Epoch 69, CIFAR-10 Batch 4:  Loss: 0.0000 Validation Accuracy: 0.739231\n",
      "Epoch 69, CIFAR-10 Batch 5:  Loss: 0.0002 Validation Accuracy: 0.741627\n",
      "Epoch 70, CIFAR-10 Batch 1:  Loss: 0.0003 Validation Accuracy: 0.743510\n",
      "Epoch 70, CIFAR-10 Batch 2:  Loss: 0.0000 Validation Accuracy: 0.730447\n",
      "Epoch 70, CIFAR-10 Batch 3:  Loss: 0.0000 Validation Accuracy: 0.742169\n",
      "Epoch 70, CIFAR-10 Batch 4:  Loss: 0.0000 Validation Accuracy: 0.747573\n",
      "Epoch 70, CIFAR-10 Batch 5:  Loss: 0.0001 Validation Accuracy: 0.739075\n",
      "Epoch 71, CIFAR-10 Batch 1:  Loss: 0.0001 Validation Accuracy: 0.738961\n",
      "Epoch 71, CIFAR-10 Batch 2:  Loss: 0.0001 Validation Accuracy: 0.747702\n",
      "Epoch 71, CIFAR-10 Batch 3:  Loss: 0.0001 Validation Accuracy: 0.741329\n",
      "Epoch 71, CIFAR-10 Batch 4:  Loss: 0.0000 Validation Accuracy: 0.735326\n",
      "Epoch 71, CIFAR-10 Batch 5:  Loss: 0.0001 Validation Accuracy: 0.740388\n",
      "Epoch 72, CIFAR-10 Batch 1:  Loss: 0.0002 Validation Accuracy: 0.741259\n",
      "Epoch 72, CIFAR-10 Batch 2:  Loss: 0.0000 Validation Accuracy: 0.744537\n",
      "Epoch 72, CIFAR-10 Batch 3:  Loss: 0.0000 Validation Accuracy: 0.738106\n",
      "Epoch 72, CIFAR-10 Batch 4:  Loss: 0.0001 Validation Accuracy: 0.746263\n",
      "Epoch 72, CIFAR-10 Batch 5:  Loss: 0.0002 Validation Accuracy: 0.746533\n",
      "Epoch 73, CIFAR-10 Batch 1:  Loss: 0.0002 Validation Accuracy: 0.742184\n",
      "Epoch 73, CIFAR-10 Batch 2:  Loss: 0.0000 Validation Accuracy: 0.749471\n",
      "Epoch 73, CIFAR-10 Batch 3:  Loss: 0.0001 Validation Accuracy: 0.743024\n",
      "Epoch 73, CIFAR-10 Batch 4:  Loss: 0.0003 Validation Accuracy: 0.748329\n",
      "Epoch 73, CIFAR-10 Batch 5:  Loss: 0.0001 Validation Accuracy: 0.745251\n",
      "Epoch 74, CIFAR-10 Batch 1:  Loss: 0.0001 Validation Accuracy: 0.755545\n",
      "Epoch 74, CIFAR-10 Batch 2:  Loss: 0.0000 Validation Accuracy: 0.740984\n",
      "Epoch 74, CIFAR-10 Batch 3:  Loss: 0.0000 Validation Accuracy: 0.741173\n",
      "Epoch 74, CIFAR-10 Batch 4:  Loss: 0.0001 Validation Accuracy: 0.748231\n",
      "Epoch 74, CIFAR-10 Batch 5:  Loss: 0.0001 Validation Accuracy: 0.738490\n",
      "Epoch 75, CIFAR-10 Batch 1:  Loss: 0.0002 Validation Accuracy: 0.748529\n",
      "Epoch 75, CIFAR-10 Batch 2:  Loss: 0.0000 Validation Accuracy: 0.749443\n",
      "Epoch 75, CIFAR-10 Batch 3:  Loss: 0.0003 Validation Accuracy: 0.753392\n",
      "Epoch 75, CIFAR-10 Batch 4:  Loss: 0.0001 Validation Accuracy: 0.746576\n",
      "Epoch 75, CIFAR-10 Batch 5:  Loss: 0.0000 Validation Accuracy: 0.750157\n",
      "Epoch 76, CIFAR-10 Batch 1:  Loss: 0.0001 Validation Accuracy: 0.755847\n",
      "Epoch 76, CIFAR-10 Batch 2:  Loss: 0.0000 Validation Accuracy: 0.745035\n",
      "Epoch 76, CIFAR-10 Batch 3:  Loss: 0.0000 Validation Accuracy: 0.747659\n",
      "Epoch 76, CIFAR-10 Batch 4:  Loss: 0.0000 Validation Accuracy: 0.745290\n",
      "Epoch 76, CIFAR-10 Batch 5:  Loss: 0.0000 Validation Accuracy: 0.745776\n",
      "Epoch 77, CIFAR-10 Batch 1:  Loss: 0.0002 Validation Accuracy: 0.742969\n",
      "Epoch 77, CIFAR-10 Batch 2:  Loss: 0.0001 Validation Accuracy: 0.745008\n",
      "Epoch 77, CIFAR-10 Batch 3:  Loss: 0.0000 Validation Accuracy: 0.753506\n",
      "Epoch 77, CIFAR-10 Batch 4:  Loss: 0.0000 Validation Accuracy: 0.746647\n",
      "Epoch 77, CIFAR-10 Batch 5:  Loss: 0.0001 Validation Accuracy: 0.746604\n",
      "Epoch 78, CIFAR-10 Batch 1:  Loss: 0.0003 Validation Accuracy: 0.744565\n",
      "Epoch 78, CIFAR-10 Batch 2:  Loss: 0.0001 Validation Accuracy: 0.748557\n",
      "Epoch 78, CIFAR-10 Batch 3:  Loss: 0.0000 Validation Accuracy: 0.744635\n",
      "Epoch 78, CIFAR-10 Batch 4:  Loss: 0.0001 Validation Accuracy: 0.739733\n",
      "Epoch 78, CIFAR-10 Batch 5:  Loss: 0.0002 Validation Accuracy: 0.750227\n",
      "Epoch 79, CIFAR-10 Batch 1:  Loss: 0.0001 Validation Accuracy: 0.743110\n",
      "Epoch 79, CIFAR-10 Batch 2:  Loss: 0.0001 Validation Accuracy: 0.744749\n",
      "Epoch 79, CIFAR-10 Batch 3:  Loss: 0.0000 Validation Accuracy: 0.746404\n",
      "Epoch 79, CIFAR-10 Batch 4:  Loss: 0.0001 Validation Accuracy: 0.746176\n",
      "Epoch 79, CIFAR-10 Batch 5:  Loss: 0.0003 Validation Accuracy: 0.743412\n",
      "Epoch 80, CIFAR-10 Batch 1:  Loss: 0.0002 Validation Accuracy: 0.749514\n",
      "Epoch 80, CIFAR-10 Batch 2:  Loss: 0.0001 Validation Accuracy: 0.747318\n",
      "Epoch 80, CIFAR-10 Batch 3:  Loss: 0.0001 Validation Accuracy: 0.737863\n",
      "Epoch 80, CIFAR-10 Batch 4:  Loss: 0.0000 Validation Accuracy: 0.748329\n",
      "Epoch 80, CIFAR-10 Batch 5:  Loss: 0.0000 Validation Accuracy: 0.746263\n",
      "Epoch 81, CIFAR-10 Batch 1:  Loss: 0.0002 Validation Accuracy: 0.751482\n",
      "Epoch 81, CIFAR-10 Batch 2:  Loss: 0.0000 Validation Accuracy: 0.746718\n",
      "Epoch 81, CIFAR-10 Batch 3:  Loss: 0.0000 Validation Accuracy: 0.745008\n",
      "Epoch 81, CIFAR-10 Batch 4:  Loss: 0.0001 Validation Accuracy: 0.749557\n",
      "Epoch 81, CIFAR-10 Batch 5:  Loss: 0.0000 Validation Accuracy: 0.749086\n",
      "Epoch 82, CIFAR-10 Batch 1:  Loss: 0.0001 Validation Accuracy: 0.747345\n",
      "Epoch 82, CIFAR-10 Batch 2:  Loss: 0.0000 Validation Accuracy: 0.744180\n",
      "Epoch 82, CIFAR-10 Batch 3:  Loss: 0.0001 Validation Accuracy: 0.751710\n",
      "Epoch 82, CIFAR-10 Batch 4:  Loss: 0.0001 Validation Accuracy: 0.744380\n",
      "Epoch 82, CIFAR-10 Batch 5:  Loss: 0.0008 Validation Accuracy: 0.745149\n",
      "Epoch 83, CIFAR-10 Batch 1:  Loss: 0.0002 Validation Accuracy: 0.757314\n",
      "Epoch 83, CIFAR-10 Batch 2:  Loss: 0.0000 Validation Accuracy: 0.749243\n",
      "Epoch 83, CIFAR-10 Batch 3:  Loss: 0.0000 Validation Accuracy: 0.754663\n",
      "Epoch 83, CIFAR-10 Batch 4:  Loss: 0.0010 Validation Accuracy: 0.754235\n",
      "Epoch 83, CIFAR-10 Batch 5:  Loss: 0.0003 Validation Accuracy: 0.750184\n",
      "Epoch 84, CIFAR-10 Batch 1:  Loss: 0.0001 Validation Accuracy: 0.751639\n",
      "Epoch 84, CIFAR-10 Batch 2:  Loss: 0.0000 Validation Accuracy: 0.738475\n",
      "Epoch 84, CIFAR-10 Batch 3:  Loss: 0.0000 Validation Accuracy: 0.742369\n",
      "Epoch 84, CIFAR-10 Batch 4:  Loss: 0.0001 Validation Accuracy: 0.746090\n",
      "Epoch 84, CIFAR-10 Batch 5:  Loss: 0.0001 Validation Accuracy: 0.753722\n",
      "Epoch 85, CIFAR-10 Batch 1:  Loss: 0.0001 Validation Accuracy: 0.748102\n",
      "Epoch 85, CIFAR-10 Batch 2:  Loss: 0.0000 Validation Accuracy: 0.747675\n",
      "Epoch 85, CIFAR-10 Batch 3:  Loss: 0.0000 Validation Accuracy: 0.752408\n",
      "Epoch 85, CIFAR-10 Batch 4:  Loss: 0.0000 Validation Accuracy: 0.751196\n",
      "Epoch 85, CIFAR-10 Batch 5:  Loss: 0.0001 Validation Accuracy: 0.749498\n",
      "Epoch 86, CIFAR-10 Batch 1:  Loss: 0.0002 Validation Accuracy: 0.752624\n",
      "Epoch 86, CIFAR-10 Batch 2:  Loss: 0.0000 Validation Accuracy: 0.753365\n",
      "Epoch 86, CIFAR-10 Batch 3:  Loss: 0.0000 Validation Accuracy: 0.742498\n",
      "Epoch 86, CIFAR-10 Batch 4:  Loss: 0.0000 Validation Accuracy: 0.747659\n",
      "Epoch 86, CIFAR-10 Batch 5:  Loss: 0.0001 Validation Accuracy: 0.749714\n",
      "Epoch 87, CIFAR-10 Batch 1:  Loss: 0.0001 Validation Accuracy: 0.750341\n",
      "Epoch 87, CIFAR-10 Batch 2:  Loss: 0.0000 Validation Accuracy: 0.750000\n",
      "Epoch 87, CIFAR-10 Batch 3:  Loss: 0.0000 Validation Accuracy: 0.744678\n",
      "Epoch 87, CIFAR-10 Batch 4:  Loss: 0.0004 Validation Accuracy: 0.745976\n",
      "Epoch 87, CIFAR-10 Batch 5:  Loss: 0.0000 Validation Accuracy: 0.744310\n",
      "Epoch 88, CIFAR-10 Batch 1:  Loss: 0.0001 Validation Accuracy: 0.749043\n",
      "Epoch 88, CIFAR-10 Batch 2:  Loss: 0.0000 Validation Accuracy: 0.746933\n",
      "Epoch 88, CIFAR-10 Batch 3:  Loss: 0.0000 Validation Accuracy: 0.749643\n",
      "Epoch 88, CIFAR-10 Batch 4:  Loss: 0.0000 Validation Accuracy: 0.753792\n",
      "Epoch 88, CIFAR-10 Batch 5:  Loss: 0.0000 Validation Accuracy: 0.745835\n",
      "Epoch 89, CIFAR-10 Batch 1:  Loss: 0.0000 Validation Accuracy: 0.741584\n",
      "Epoch 89, CIFAR-10 Batch 2:  Loss: 0.0000 Validation Accuracy: 0.744651\n",
      "Epoch 89, CIFAR-10 Batch 3:  Loss: 0.0000 Validation Accuracy: 0.746647\n",
      "Epoch 89, CIFAR-10 Batch 4:  Loss: 0.0002 Validation Accuracy: 0.745408\n",
      "Epoch 89, CIFAR-10 Batch 5:  Loss: 0.0000 Validation Accuracy: 0.749784\n",
      "Epoch 90, CIFAR-10 Batch 1:  Loss: 0.0001 Validation Accuracy: 0.748686\n",
      "Epoch 90, CIFAR-10 Batch 2:  Loss: 0.0000 Validation Accuracy: 0.743380\n",
      "Epoch 90, CIFAR-10 Batch 3:  Loss: 0.0000 Validation Accuracy: 0.750812\n",
      "Epoch 90, CIFAR-10 Batch 4:  Loss: 0.0010 Validation Accuracy: 0.743667\n",
      "Epoch 90, CIFAR-10 Batch 5:  Loss: 0.0000 Validation Accuracy: 0.746333\n",
      "Epoch 91, CIFAR-10 Batch 1:  Loss: 0.0001 Validation Accuracy: 0.744992\n",
      "Epoch 91, CIFAR-10 Batch 2:  Loss: 0.0000 Validation Accuracy: 0.747659\n",
      "Epoch 91, CIFAR-10 Batch 3:  Loss: 0.0000 Validation Accuracy: 0.749369\n",
      "Epoch 91, CIFAR-10 Batch 4:  Loss: 0.0002 Validation Accuracy: 0.749514\n",
      "Epoch 91, CIFAR-10 Batch 5:  Loss: 0.0000 Validation Accuracy: 0.747902\n",
      "Epoch 92, CIFAR-10 Batch 1:  Loss: 0.0010 Validation Accuracy: 0.744224\n",
      "Epoch 92, CIFAR-10 Batch 2:  Loss: 0.0001 Validation Accuracy: 0.753051\n",
      "Epoch 92, CIFAR-10 Batch 3:  Loss: 0.0000 Validation Accuracy: 0.748871\n",
      "Epoch 92, CIFAR-10 Batch 4:  Loss: 0.0000 Validation Accuracy: 0.749455\n",
      "Epoch 92, CIFAR-10 Batch 5:  Loss: 0.0000 Validation Accuracy: 0.752008\n",
      "Epoch 93, CIFAR-10 Batch 1:  Loss: 0.0001 Validation Accuracy: 0.755345\n",
      "Epoch 93, CIFAR-10 Batch 2:  Loss: 0.0000 Validation Accuracy: 0.743482\n",
      "Epoch 93, CIFAR-10 Batch 3:  Loss: 0.0000 Validation Accuracy: 0.751024\n",
      "Epoch 93, CIFAR-10 Batch 4:  Loss: 0.0003 Validation Accuracy: 0.741471\n",
      "Epoch 93, CIFAR-10 Batch 5:  Loss: 0.0001 Validation Accuracy: 0.746020\n",
      "Epoch 94, CIFAR-10 Batch 1:  Loss: 0.0000 Validation Accuracy: 0.743082\n",
      "Epoch 94, CIFAR-10 Batch 2:  Loss: 0.0000 Validation Accuracy: 0.747816\n",
      "Epoch 94, CIFAR-10 Batch 3:  Loss: 0.0000 Validation Accuracy: 0.745792\n",
      "Epoch 94, CIFAR-10 Batch 4:  Loss: 0.0001 Validation Accuracy: 0.743494\n",
      "Epoch 94, CIFAR-10 Batch 5:  Loss: 0.0001 Validation Accuracy: 0.740314\n",
      "Epoch 95, CIFAR-10 Batch 1:  Loss: 0.0001 Validation Accuracy: 0.750212\n",
      "Epoch 95, CIFAR-10 Batch 2:  Loss: 0.0001 Validation Accuracy: 0.748314\n",
      "Epoch 95, CIFAR-10 Batch 3:  Loss: 0.0000 Validation Accuracy: 0.747188\n",
      "Epoch 95, CIFAR-10 Batch 4:  Loss: 0.0000 Validation Accuracy: 0.742439\n",
      "Epoch 95, CIFAR-10 Batch 5:  Loss: 0.0000 Validation Accuracy: 0.742882\n",
      "Epoch 96, CIFAR-10 Batch 1:  Loss: 0.0003 Validation Accuracy: 0.745933\n",
      "Epoch 96, CIFAR-10 Batch 2:  Loss: 0.0000 Validation Accuracy: 0.744165\n",
      "Epoch 96, CIFAR-10 Batch 3:  Loss: 0.0000 Validation Accuracy: 0.748573\n",
      "Epoch 96, CIFAR-10 Batch 4:  Loss: 0.0000 Validation Accuracy: 0.750498\n",
      "Epoch 96, CIFAR-10 Batch 5:  Loss: 0.0001 Validation Accuracy: 0.742796\n",
      "Epoch 97, CIFAR-10 Batch 1:  Loss: 0.0000 Validation Accuracy: 0.746133\n",
      "Epoch 97, CIFAR-10 Batch 2:  Loss: 0.0000 Validation Accuracy: 0.739259\n",
      "Epoch 97, CIFAR-10 Batch 3:  Loss: 0.0000 Validation Accuracy: 0.746788\n",
      "Epoch 97, CIFAR-10 Batch 4:  Loss: 0.0000 Validation Accuracy: 0.753149\n",
      "Epoch 97, CIFAR-10 Batch 5:  Loss: 0.0002 Validation Accuracy: 0.750596\n",
      "Epoch 98, CIFAR-10 Batch 1:  Loss: 0.0002 Validation Accuracy: 0.744522\n",
      "Epoch 98, CIFAR-10 Batch 2:  Loss: 0.0002 Validation Accuracy: 0.748914\n",
      "Epoch 98, CIFAR-10 Batch 3:  Loss: 0.0000 Validation Accuracy: 0.745592\n",
      "Epoch 98, CIFAR-10 Batch 4:  Loss: 0.0001 Validation Accuracy: 0.748573\n",
      "Epoch 98, CIFAR-10 Batch 5:  Loss: 0.0001 Validation Accuracy: 0.748957\n",
      "Epoch 99, CIFAR-10 Batch 1:  Loss: 0.0005 Validation Accuracy: 0.745235\n",
      "Epoch 99, CIFAR-10 Batch 2:  Loss: 0.0001 Validation Accuracy: 0.747631\n",
      "Epoch 99, CIFAR-10 Batch 3:  Loss: 0.0000 Validation Accuracy: 0.743667\n",
      "Epoch 99, CIFAR-10 Batch 4:  Loss: 0.0001 Validation Accuracy: 0.745620\n",
      "Epoch 99, CIFAR-10 Batch 5:  Loss: 0.0001 Validation Accuracy: 0.747875\n",
      "Epoch 100, CIFAR-10 Batch 1:  Loss: 0.0001 Validation Accuracy: 0.748129\n",
      "Epoch 100, CIFAR-10 Batch 2:  Loss: 0.0001 Validation Accuracy: 0.750027\n",
      "Epoch 100, CIFAR-10 Batch 3:  Loss: 0.0000 Validation Accuracy: 0.748729\n",
      "Epoch 100, CIFAR-10 Batch 4:  Loss: 0.0001 Validation Accuracy: 0.745608\n",
      "Epoch 100, CIFAR-10 Batch 5:  Loss: 0.0000 Validation Accuracy: 0.747518\n",
      "CPU times: user 20min 31s, sys: 19min 25s, total: 39min 56s\n",
      "Wall time: 49min 10s\n"
     ]
    }
   ],
   "source": [
    "%%time\n",
    "\"\"\"\n",
    "DON'T MODIFY ANYTHING IN THIS CELL\n",
    "\"\"\"\n",
    "save_model_path = './image_classification'\n",
    "\n",
    "print('Training...')\n",
    "with tf.Session() as sess:\n",
    "    # Initializing the variables\n",
    "    sess.run(tf.global_variables_initializer())\n",
    "    \n",
    "    # Training cycle\n",
    "    for epoch in range(epochs):\n",
    "        # Loop over all batches\n",
    "        n_batches = 5\n",
    "        for batch_i in range(1, n_batches + 1):\n",
    "            for batch_features, batch_labels in helper.load_preprocess_training_batch(batch_i, batch_size):\n",
    "                train_neural_network(sess, optimizer, keep_probability, batch_features, batch_labels)\n",
    "            print('Epoch {:>2}, CIFAR-10 Batch {}:  '.format(epoch + 1, batch_i), end='')\n",
    "            print_stats(sess, batch_features, batch_labels, cost, accuracy)\n",
    "            \n",
    "    # Save Model\n",
    "    saver = tf.train.Saver()\n",
    "    save_path = saver.save(sess, save_model_path)"
   ]
  },
  {
   "cell_type": "markdown",
   "metadata": {
    "deletable": true,
    "editable": true
   },
   "source": [
    "# Checkpoint\n",
    "The model has been saved to disk.\n",
    "## Test Model\n",
    "Test your model against the test dataset.  This will be your final accuracy. You should have an accuracy greater than 50%. If you don't, keep tweaking the model architecture and parameters."
   ]
  },
  {
   "cell_type": "code",
   "execution_count": 28,
   "metadata": {
    "collapsed": false,
    "deletable": true,
    "editable": true
   },
   "outputs": [
    {
     "name": "stdout",
     "output_type": "stream",
     "text": [
      "Testing Accuracy: 0.74482421875\n",
      "\n"
     ]
    },
    {
     "data": {
      "image/png": "[encoded data removed]",
      "text/plain": [
       "<matplotlib.figure.Figure at 0x7f56d19c2898>"
      ]
     },
     "metadata": {
      "image/png": {
       "height": 319,
       "width": 349
      }
     },
     "output_type": "display_data"
    }
   ],
   "source": [
    "\"\"\"\n",
    "DON'T MODIFY ANYTHING IN THIS CELL\n",
    "\"\"\"\n",
    "%matplotlib inline\n",
    "%config InlineBackend.figure_format = 'retina'\n",
    "\n",
    "import tensorflow as tf\n",
    "import pickle\n",
    "import helper\n",
    "import random\n",
    "\n",
    "# Set batch size if not already set\n",
    "try:\n",
    "    if batch_size:\n",
    "        pass\n",
    "except NameError:\n",
    "    batch_size = 64\n",
    "\n",
    "save_model_path = './image_classification'\n",
    "n_samples = 4\n",
    "top_n_predictions = 3\n",
    "\n",
    "def test_model():\n",
    "    \"\"\"\n",
    "    Test the saved model against the test dataset\n",
    "    \"\"\"\n",
    "\n",
    "    test_features, test_labels = pickle.load(open('preprocess_test.p', mode='rb'))\n",
    "    loaded_graph = tf.Graph()\n",
    "\n",
    "    with tf.Session(graph=loaded_graph) as sess:\n",
    "        # Load model\n",
    "        loader = tf.train.import_meta_graph(save_model_path + '.meta')\n",
    "        loader.restore(sess, save_model_path)\n",
    "\n",
    "        # Get Tensors from loaded model\n",
    "        loaded_x = loaded_graph.get_tensor_by_name('x:0')\n",
    "        loaded_y = loaded_graph.get_tensor_by_name('y:0')\n",
    "        loaded_keep_prob = loaded_graph.get_tensor_by_name('keep_prob:0')\n",
    "        loaded_logits = loaded_graph.get_tensor_by_name('logits:0')\n",
    "        loaded_acc = loaded_graph.get_tensor_by_name('accuracy:0')\n",
    "        \n",
    "        # Get accuracy in batches for memory limitations\n",
    "        test_batch_acc_total = 0\n",
    "        test_batch_count = 0\n",
    "        \n",
    "        for test_feature_batch, test_label_batch in helper.batch_features_labels(test_features, test_labels, batch_size):\n",
    "            test_batch_acc_total += sess.run(\n",
    "                loaded_acc,\n",
    "                feed_dict={loaded_x: test_feature_batch, loaded_y: test_label_batch, loaded_keep_prob: 1.0})\n",
    "            test_batch_count += 1\n",
    "\n",
    "        print('Testing Accuracy: {}\\n'.format(test_batch_acc_total/test_batch_count))\n",
    "\n",
    "        # Print Random Samples\n",
    "        random_test_features, random_test_labels = tuple(zip(*random.sample(list(zip(test_features, test_labels)), n_samples)))\n",
    "        random_test_predictions = sess.run(\n",
    "            tf.nn.top_k(tf.nn.softmax(loaded_logits), top_n_predictions),\n",
    "            feed_dict={loaded_x: random_test_features, loaded_y: random_test_labels, loaded_keep_prob: 1.0})\n",
    "        helper.display_image_predictions(random_test_features, random_test_labels, random_test_predictions)\n",
    "\n",
    "\n",
    "test_model()"
   ]
  },
  {
   "cell_type": "markdown",
   "metadata": {
    "deletable": true,
    "editable": true
   },
   "source": [
    "## Some analysis on the predictions. "
   ]
  },
  {
   "cell_type": "markdown",
   "metadata": {
    "deletable": true,
    "editable": true
   },
   "source": [
    "Let's go a bit deeper into our analysis, and see how well the model is really doing. First let's obtain all the predicted and actual labels from the test set."
   ]
  },
  {
   "cell_type": "code",
   "execution_count": 29,
   "metadata": {
    "collapsed": true,
    "deletable": true,
    "editable": true
   },
   "outputs": [],
   "source": [
    "%matplotlib inline\n",
    "%config InlineBackend.figure_format = 'retina'\n",
    "\n",
    "import numpy as np\n",
    "# Set batch size if not already set\n",
    "try:\n",
    "    if batch_size:\n",
    "        pass\n",
    "except NameError:\n",
    "    batch_size = 64\n",
    "\n",
    "save_model_path = './image_classification'\n",
    "\n",
    "def test_model_pred():\n",
    "    \"\"\"\n",
    "    Test the saved model against the test dataset\n",
    "    \"\"\"\n",
    "\n",
    "    test_features, test_labels = pickle.load(open('preprocess_test.p', mode='rb'))\n",
    "    loaded_graph = tf.Graph()\n",
    "\n",
    "    with tf.Session(graph=loaded_graph) as sess:\n",
    "        # Load model\n",
    "        loader = tf.train.import_meta_graph(save_model_path + '.meta')\n",
    "        loader.restore(sess, save_model_path)\n",
    "\n",
    "        # Get Tensors from loaded model\n",
    "        loaded_x = loaded_graph.get_tensor_by_name('x:0')\n",
    "        loaded_y = loaded_graph.get_tensor_by_name('y:0')\n",
    "        loaded_keep_prob = loaded_graph.get_tensor_by_name('keep_prob:0')\n",
    "        loaded_logits = loaded_graph.get_tensor_by_name('logits:0')\n",
    "        \n",
    "        # Get predictions in batches for memory limitations\n",
    "        test_predictions=[]\n",
    "        correct_predictions=[]\n",
    "        for test_feature_batch, test_label_batch in helper.batch_features_labels(test_features, test_labels, batch_size):\n",
    "            test_predictions = np.append(test_predictions, sess.run(tf.argmax(tf.nn.softmax(loaded_logits),axis=1),\n",
    "            feed_dict={loaded_x: test_feature_batch, loaded_y: test_label_batch, loaded_keep_prob: 1.0}))\n",
    "\n",
    "            correct_predictions = np.append(correct_predictions, sess.run(tf.argmax(test_label_batch,axis=1)))\n",
    "    \n",
    "    return correct_predictions,test_predictions\n",
    "\n",
    "\n",
    "\n",
    "y_corr,y_pred = test_model_pred()\n"
   ]
  },
  {
   "cell_type": "markdown",
   "metadata": {
    "deletable": true,
    "editable": true
   },
   "source": [
    "Now let's plot the confusion matrix "
   ]
  },
  {
   "cell_type": "code",
   "execution_count": 30,
   "metadata": {
    "collapsed": true,
    "deletable": true,
    "editable": true
   },
   "outputs": [],
   "source": [
    "##From http://scikit-learn.org/stable/auto_examples/model_selection/plot_confusion_matrix.html#sphx-glr-auto-examples-model-selection-plot-confusion-matrix-py\n",
    "\n",
    "from sklearn.metrics import confusion_matrix\n",
    "import matplotlib.pyplot as plt\n",
    "import itertools\n",
    "\n",
    "def plot_confusion_matrix(cm, classes,\n",
    "                          normalize=False,\n",
    "                          title='Confusion matrix',\n",
    "                          cmap=plt.cm.Blues):\n",
    "    \"\"\"\n",
    "    This function prints and plots the confusion matrix.\n",
    "    Normalization can be applied by setting `normalize=True`.\n",
    "    \"\"\"\n",
    "    plt.imshow(cm, interpolation='nearest', cmap=cmap)\n",
    "    plt.title(title)\n",
    "    plt.colorbar()\n",
    "    tick_marks = np.arange(len(classes))\n",
    "    plt.xticks(tick_marks, classes, rotation=45)\n",
    "    plt.yticks(tick_marks, classes)\n",
    "\n",
    "    if normalize:\n",
    "        cm = cm.astype('float') / cm.sum(axis=1)[:, np.newaxis]\n",
    "        print(\"Normalized confusion matrix\")\n",
    "    else:\n",
    "        print('Confusion matrix, without normalization')\n",
    "\n",
    "    print(cm)\n",
    "\n",
    "    thresh = cm.max() / 2.\n",
    "    for i, j in itertools.product(range(cm.shape[0]), range(cm.shape[1])):\n",
    "        plt.text(j, i, cm[i, j],\n",
    "                 horizontalalignment=\"center\",\n",
    "                 color=\"white\" if cm[i, j] > thresh else \"black\")\n",
    "\n",
    "    plt.tight_layout()\n",
    "    plt.ylabel('True label')\n",
    "    plt.xlabel('Predicted label')\n"
   ]
  },
  {
   "cell_type": "code",
   "execution_count": 31,
   "metadata": {
    "collapsed": true,
    "deletable": true,
    "editable": true
   },
   "outputs": [],
   "source": [
    "class_names=['airplane', 'automobile', 'bird', 'cat', 'deer', 'dog', 'frog', 'horse', 'ship', 'truck'] \n",
    "cm = confusion_matrix(y_corr, y_pred)"
   ]
  },
  {
   "cell_type": "code",
   "execution_count": 32,
   "metadata": {
    "collapsed": false,
    "deletable": true,
    "editable": true
   },
   "outputs": [
    {
     "name": "stdout",
     "output_type": "stream",
     "text": [
      "Confusion matrix, without normalization\n",
      "[[807  12  63  17  19   5   6   4  42  25]\n",
      " [  9 874  14  13   3   3   3   1  20  60]\n",
      " [ 56   3 718  39  61  52  38  23   8   2]\n",
      " [ 27  10 122 553  68 144  33  25  13   5]\n",
      " [ 21   5  94  49 740  15  26  39   9   2]\n",
      " [ 12   6 112 139  57 607  17  38   8   4]\n",
      " [ 11   7  65  68  44  21 775   3   5   1]\n",
      " [  9   1  63  31  67  38   2 782   2   5]\n",
      " [ 59  38  20  14   5   5   7   4 823  25]\n",
      " [ 26  91  17  23   9   4   4  13  30 783]]\n"
     ]
    },
    {
     "data": {
      "image/png": "[encoded data removed]",
      "text/plain": [
       "<matplotlib.figure.Figure at 0x7f56d064ff60>"
      ]
     },
     "metadata": {
      "image/png": {
       "height": 293,
       "width": 344
      }
     },
     "output_type": "display_data"
    }
   ],
   "source": [
    "plot_confusion_matrix(cm, classes=class_names,\n",
    "                      title='Confusion matrix')"
   ]
  },
  {
   "cell_type": "markdown",
   "metadata": {
    "deletable": true,
    "editable": true
   },
   "source": [
    "As we can see, behaviour of our cnn becomes a lot more clearer from this. Some insights from this\n",
    "\n",
    "1. The model seems to be relatively weak in classifying dogs, birds and cats\n",
    "2. A localized inspection does indicate that the model has trouble identifying dogs and cats, often confusing one for the other\n",
    "3. Automobiles do get classified as trucks to some extent, and vice versa. \n"
   ]
  },
  {
   "cell_type": "markdown",
   "metadata": {
    "deletable": true,
    "editable": true
   },
   "source": [
    "A classification report has been generated and plotted"
   ]
  },
  {
   "cell_type": "code",
   "execution_count": 33,
   "metadata": {
    "collapsed": true,
    "deletable": true,
    "editable": true
   },
   "outputs": [],
   "source": [
    "##From http://stackoverflow.com/questions/28200786/how-to-plot-scikit-learn-classification-report\n",
    "\n",
    "\n",
    "import matplotlib.pyplot as plt\n",
    "import numpy as np\n",
    "\n",
    "def show_values(pc, fmt=\"%.2f\", **kw):\n",
    "    '''\n",
    "    Heatmap with text in each cell with matplotlib's pyplot\n",
    "    Source: http://stackoverflow.com/a/25074150/395857 \n",
    "    By HYRY\n",
    "    '''\n",
    "    from itertools import izip\n",
    "    pc.update_scalarmappable()\n",
    "    ax = pc.get_axes()\n",
    "    for p, color, value in izip(pc.get_paths(), pc.get_facecolors(), pc.get_array()):\n",
    "        x, y = p.vertices[:-2, :].mean(0)\n",
    "        if np.all(color[:3] > 0.5):\n",
    "            color = (0.0, 0.0, 0.0)\n",
    "        else:\n",
    "            color = (1.0, 1.0, 1.0)\n",
    "        ax.text(x, y, fmt % value, ha=\"center\", va=\"center\", color=color, **kw)\n",
    "\n",
    "\n",
    "def cm2inch(*tupl):\n",
    "    '''\n",
    "    Specify figure size in centimeter in matplotlib\n",
    "    Source: http://stackoverflow.com/a/22787457/395857\n",
    "    By gns-ank\n",
    "    '''\n",
    "    inch = 2.54\n",
    "    if type(tupl[0]) == tuple:\n",
    "        return tuple(i/inch for i in tupl[0])\n",
    "    else:\n",
    "        return tuple(i/inch for i in tupl)\n",
    "\n",
    "\n",
    "def heatmap(AUC, title, xlabel, ylabel, xticklabels, yticklabels, figure_width=40, figure_height=20, correct_orientation=False, cmap='RdBu'):\n",
    "    '''\n",
    "    Inspired by:\n",
    "    - http://stackoverflow.com/a/16124677/395857 \n",
    "    - http://stackoverflow.com/a/25074150/395857\n",
    "    '''\n",
    "\n",
    "    # Plot it out\n",
    "    fig, ax = plt.subplots()    \n",
    "    #c = ax.pcolor(AUC, edgecolors='k', linestyle= 'dashed', linewidths=0.2, cmap='RdBu', vmin=0.0, vmax=1.0)\n",
    "    c = ax.pcolor(AUC, edgecolors='k', linestyle= 'dashed', linewidths=0.2, cmap=cmap)\n",
    "\n",
    "    # put the major ticks at the middle of each cell\n",
    "    ax.set_yticks(np.arange(AUC.shape[0]) + 0.5, minor=False)\n",
    "    ax.set_xticks(np.arange(AUC.shape[1]) + 0.5, minor=False)\n",
    "\n",
    "    # set tick labels\n",
    "    #ax.set_xticklabels(np.arange(1,AUC.shape[1]+1), minor=False)\n",
    "    ax.set_xticklabels(xticklabels, minor=False)\n",
    "    ax.set_yticklabels(yticklabels, minor=False)\n",
    "\n",
    "    # set title and x/y labels\n",
    "    plt.title(title)\n",
    "    plt.xlabel(xlabel)\n",
    "    plt.ylabel(ylabel)      \n",
    "\n",
    "    # Remove last blank column\n",
    "    plt.xlim( (0, AUC.shape[1]) )\n",
    "\n",
    "    # Turn off all the ticks\n",
    "    ax = plt.gca()    \n",
    "    for t in ax.xaxis.get_major_ticks():\n",
    "        t.tick1On = False\n",
    "        t.tick2On = False\n",
    "    for t in ax.yaxis.get_major_ticks():\n",
    "        t.tick1On = False\n",
    "        t.tick2On = False\n",
    "\n",
    "    # Add color bar\n",
    "    plt.colorbar(c)\n",
    "\n",
    "    # Add text in each cell \n",
    "    show_values(c)\n",
    "\n",
    "    # Proper orientation (origin at the top left instead of bottom left)\n",
    "    if correct_orientation:\n",
    "        ax.invert_yaxis()\n",
    "        ax.xaxis.tick_top()       \n",
    "\n",
    "    # resize \n",
    "    fig = plt.gcf()\n",
    "    #fig.set_size_inches(cm2inch(40, 20))\n",
    "    #fig.set_size_inches(cm2inch(40*4, 20*4))\n",
    "    fig.set_size_inches(cm2inch(figure_width, figure_height))\n",
    "\n",
    "\n",
    "\n",
    "def plot_classification_report(classification_report, title='Classification report ', cmap='RdBu'):\n",
    "    '''\n",
    "    Plot scikit-learn classification report.\n",
    "    Extension based on http://stackoverflow.com/a/31689645/395857 \n",
    "    '''\n",
    "    lines = classification_report.split('\\n')\n",
    "\n",
    "    classes = []\n",
    "    plotMat = []\n",
    "    support = []\n",
    "    class_names = []\n",
    "    for line in lines[2 : (len(lines) - 2)]:\n",
    "        t = line.strip().split()\n",
    "        if len(t) < 2: continue\n",
    "        classes.append(t[0])\n",
    "        v = [float(x) for x in t[1: len(t) - 1]]\n",
    "        support.append(int(t[-1]))\n",
    "        class_names.append(t[0])\n",
    "        print(v)\n",
    "        plotMat.append(v)\n",
    "\n",
    "\n",
    "    xlabel = 'Metrics'\n",
    "    ylabel = 'Classes'\n",
    "    xticklabels = ['Precision', 'Recall', 'F1-score']\n",
    "    yticklabels = ['{0} ({1})'.format(class_names[idx], sup) for idx, sup  in enumerate(support)]\n",
    "    figure_width = 25\n",
    "    figure_height = len(class_names) + 7\n",
    "    correct_orientation = False\n",
    "    heatmap(np.array(plotMat), title, xlabel, ylabel, xticklabels, yticklabels, figure_width, figure_height, correct_orientation, cmap=cmap)\n"
   ]
  },
  {
   "cell_type": "code",
   "execution_count": 34,
   "metadata": {
    "collapsed": false,
    "deletable": true,
    "editable": true
   },
   "outputs": [
    {
     "name": "stdout",
     "output_type": "stream",
     "text": [
      "[0.78, 0.81, 0.79]\n",
      "[0.83, 0.87, 0.85]\n",
      "[0.56, 0.72, 0.63]\n",
      "[0.58, 0.55, 0.57]\n",
      "[0.69, 0.74, 0.71]\n",
      "[0.68, 0.61, 0.64]\n",
      "[0.85, 0.78, 0.81]\n",
      "[0.84, 0.78, 0.81]\n",
      "[0.86, 0.82, 0.84]\n",
      "[0.86, 0.78, 0.82]\n"
     ]
    },
    {
     "ename": "ImportError",
     "evalue": "cannot import name 'izip'",
     "output_type": "error",
     "traceback": [
      "\u001b[0;31m---------------------------------------------------------------------------\u001b[0m",
      "\u001b[0;31mImportError\u001b[0m                               Traceback (most recent call last)",
      "\u001b[0;32m<ipython-input-34-ca278778f6e4>\u001b[0m in \u001b[0;36m<module>\u001b[0;34m()\u001b[0m\n\u001b[1;32m      1\u001b[0m \u001b[0;32mfrom\u001b[0m \u001b[0msklearn\u001b[0m\u001b[0;34m.\u001b[0m\u001b[0mmetrics\u001b[0m \u001b[0;32mimport\u001b[0m \u001b[0mclassification_report\u001b[0m\u001b[0;34m\u001b[0m\u001b[0m\n\u001b[1;32m      2\u001b[0m \u001b[0mcr\u001b[0m \u001b[0;34m=\u001b[0m \u001b[0mclassification_report\u001b[0m\u001b[0;34m(\u001b[0m\u001b[0my_corr\u001b[0m\u001b[0;34m,\u001b[0m \u001b[0my_pred\u001b[0m\u001b[0;34m,\u001b[0m \u001b[0mtarget_names\u001b[0m\u001b[0;34m=\u001b[0m\u001b[0mclass_names\u001b[0m\u001b[0;34m)\u001b[0m\u001b[0;34m\u001b[0m\u001b[0m\n\u001b[0;32m----> 3\u001b[0;31m \u001b[0mplot_classification_report\u001b[0m\u001b[0;34m(\u001b[0m\u001b[0mcr\u001b[0m\u001b[0;34m)\u001b[0m\u001b[0;34m\u001b[0m\u001b[0m\n\u001b[0m",
      "\u001b[0;32m<ipython-input-33-c104aac7ec15>\u001b[0m in \u001b[0;36mplot_classification_report\u001b[0;34m(classification_report, title, cmap)\u001b[0m\n\u001b[1;32m    122\u001b[0m     \u001b[0mfigure_height\u001b[0m \u001b[0;34m=\u001b[0m \u001b[0mlen\u001b[0m\u001b[0;34m(\u001b[0m\u001b[0mclass_names\u001b[0m\u001b[0;34m)\u001b[0m \u001b[0;34m+\u001b[0m \u001b[0;36m7\u001b[0m\u001b[0;34m\u001b[0m\u001b[0m\n\u001b[1;32m    123\u001b[0m     \u001b[0mcorrect_orientation\u001b[0m \u001b[0;34m=\u001b[0m \u001b[0;32mFalse\u001b[0m\u001b[0;34m\u001b[0m\u001b[0m\n\u001b[0;32m--> 124\u001b[0;31m     \u001b[0mheatmap\u001b[0m\u001b[0;34m(\u001b[0m\u001b[0mnp\u001b[0m\u001b[0;34m.\u001b[0m\u001b[0marray\u001b[0m\u001b[0;34m(\u001b[0m\u001b[0mplotMat\u001b[0m\u001b[0;34m)\u001b[0m\u001b[0;34m,\u001b[0m \u001b[0mtitle\u001b[0m\u001b[0;34m,\u001b[0m \u001b[0mxlabel\u001b[0m\u001b[0;34m,\u001b[0m \u001b[0mylabel\u001b[0m\u001b[0;34m,\u001b[0m \u001b[0mxticklabels\u001b[0m\u001b[0;34m,\u001b[0m \u001b[0myticklabels\u001b[0m\u001b[0;34m,\u001b[0m \u001b[0mfigure_width\u001b[0m\u001b[0;34m,\u001b[0m \u001b[0mfigure_height\u001b[0m\u001b[0;34m,\u001b[0m \u001b[0mcorrect_orientation\u001b[0m\u001b[0;34m,\u001b[0m \u001b[0mcmap\u001b[0m\u001b[0;34m=\u001b[0m\u001b[0mcmap\u001b[0m\u001b[0;34m)\u001b[0m\u001b[0;34m\u001b[0m\u001b[0m\n\u001b[0m",
      "\u001b[0;32m<ipython-input-33-c104aac7ec15>\u001b[0m in \u001b[0;36mheatmap\u001b[0;34m(AUC, title, xlabel, ylabel, xticklabels, yticklabels, figure_width, figure_height, correct_orientation, cmap)\u001b[0m\n\u001b[1;32m     78\u001b[0m \u001b[0;34m\u001b[0m\u001b[0m\n\u001b[1;32m     79\u001b[0m     \u001b[0;31m# Add text in each cell\u001b[0m\u001b[0;34m\u001b[0m\u001b[0;34m\u001b[0m\u001b[0m\n\u001b[0;32m---> 80\u001b[0;31m     \u001b[0mshow_values\u001b[0m\u001b[0;34m(\u001b[0m\u001b[0mc\u001b[0m\u001b[0;34m)\u001b[0m\u001b[0;34m\u001b[0m\u001b[0m\n\u001b[0m\u001b[1;32m     81\u001b[0m \u001b[0;34m\u001b[0m\u001b[0m\n\u001b[1;32m     82\u001b[0m     \u001b[0;31m# Proper orientation (origin at the top left instead of bottom left)\u001b[0m\u001b[0;34m\u001b[0m\u001b[0;34m\u001b[0m\u001b[0m\n",
      "\u001b[0;32m<ipython-input-33-c104aac7ec15>\u001b[0m in \u001b[0;36mshow_values\u001b[0;34m(pc, fmt, **kw)\u001b[0m\n\u001b[1;32m     11\u001b[0m     \u001b[0mBy\u001b[0m \u001b[0mHYRY\u001b[0m\u001b[0;34m\u001b[0m\u001b[0m\n\u001b[1;32m     12\u001b[0m     '''\n\u001b[0;32m---> 13\u001b[0;31m     \u001b[0;32mfrom\u001b[0m \u001b[0mitertools\u001b[0m \u001b[0;32mimport\u001b[0m \u001b[0mizip\u001b[0m\u001b[0;34m\u001b[0m\u001b[0m\n\u001b[0m\u001b[1;32m     14\u001b[0m     \u001b[0mpc\u001b[0m\u001b[0;34m.\u001b[0m\u001b[0mupdate_scalarmappable\u001b[0m\u001b[0;34m(\u001b[0m\u001b[0;34m)\u001b[0m\u001b[0;34m\u001b[0m\u001b[0m\n\u001b[1;32m     15\u001b[0m     \u001b[0max\u001b[0m \u001b[0;34m=\u001b[0m \u001b[0mpc\u001b[0m\u001b[0;34m.\u001b[0m\u001b[0mget_axes\u001b[0m\u001b[0;34m(\u001b[0m\u001b[0;34m)\u001b[0m\u001b[0;34m\u001b[0m\u001b[0m\n",
      "\u001b[0;31mImportError\u001b[0m: cannot import name 'izip'"
     ]
    },
    {
     "data": {
      "image/png": "[encoded data removed]",
      "text/plain": [
       "<matplotlib.figure.Figure at 0x7f56d0469240>"
      ]
     },
     "metadata": {
      "image/png": {
       "height": 277,
       "width": 453
      }
     },
     "output_type": "display_data"
    }
   ],
   "source": [
    "from sklearn.metrics import classification_report\n",
    "cr = classification_report(y_corr, y_pred, target_names=class_names)\n",
    "plot_classification_report(cr)"
   ]
  },
  {
   "cell_type": "markdown",
   "metadata": {
    "deletable": true,
    "editable": true
   },
   "source": [
    "recall(no pun intended) that , **Precision** is a measure of how many predictions of a certain label were relevant, i.e, were correctly predicted. **Recall**  is a measure of how good the model is at detecting a particular label "
   ]
  },
  {
   "cell_type": "markdown",
   "metadata": {
    "deletable": true,
    "editable": true
   },
   "source": [
    "## Why 50-80% Accuracy?\n",
    "You might be wondering why you can't get an accuracy any higher. First things first, 50% isn't bad for a simple CNN.  Pure guessing would get you 10% accuracy. However, you might notice people are getting scores [well above 80%](http://rodrigob.github.io/are_we_there_yet/build/classification_datasets_results.html#43494641522d3130).  That's because we haven't taught you all there is to know about neural networks. We still need to cover a few more techniques.\n",
    "## Submitting This Project\n",
    "When submitting this project, make sure to run all the cells before saving the notebook.  Save the notebook file as \"dlnd_image_classification.ipynb\" and save it as a HTML file under \"File\" -> \"Download as\".  Include the \"helper.py\" and \"problem_unittests.py\" files in your submission."
   ]
  }
 ],
 "metadata": {
  "kernelspec": {
   "display_name": "Python 3",
   "language": "python",
   "name": "python3"
  },
  "language_info": {
   "codemirror_mode": {
    "name": "ipython",
    "version": 3
   },
   "file_extension": ".py",
   "mimetype": "text/x-python",
   "name": "python",
   "nbconvert_exporter": "python",
   "pygments_lexer": "ipython3",
   "version": "3.5.3"
  }
 },
 "nbformat": 4,
 "nbformat_minor": 1
}
